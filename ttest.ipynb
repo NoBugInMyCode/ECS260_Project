{
 "cells": [
  {
   "cell_type": "code",
   "execution_count": 5,
   "metadata": {},
   "outputs": [],
   "source": [
    "import pandas as pd\n",
    "from scipy import stats\n",
    "from sklearn.model_selection import train_test_split\n",
    "import matplotlib.pyplot as plt\n",
    "from scipy.stats import norm\n",
    "import seaborn as sns\n",
    "from scipy.stats import mannwhitneyu"
   ]
  },
  {
   "cell_type": "code",
   "execution_count": 6,
   "metadata": {},
   "outputs": [],
   "source": [
    "df = pd.read_csv(\"data_cleaned.csv\")"
   ]
  },
  {
   "cell_type": "code",
   "execution_count": 5,
   "metadata": {},
   "outputs": [
    {
     "name": "stdout",
     "output_type": "stream",
     "text": [
      "Index(['url', 'name', 'owner', 'forks', 'stars', 'languages', 'commits',\n",
      "       'creation_date', 'contributors', 'topics', 'watchers', 'readme',\n",
      "       'releases', 'pull_requests', 'readme_size', 'commits_freq',\n",
      "       'releases_freq', 'lines_of_codes', 'popularity_score_1',\n",
      "       'popularity_score_2', 'popularity_score_3', 'forks_outlier_flag',\n",
      "       'watchers_outlier_flag', 'stars_outlier_flag',\n",
      "       'releases_freq_outlier_flag', 'pull_requests_outlier_flag',\n",
      "       'readme_size_outlier_flag', 'lines_of_codes_outlier_flag'],\n",
      "      dtype='object')\n"
     ]
    }
   ],
   "source": [
    "print(df.columns)"
   ]
  },
  {
   "cell_type": "code",
   "execution_count": null,
   "metadata": {},
   "outputs": [],
   "source": [
    "def convert_columns_to_float32(df, columns):\n",
    "    for col in columns:\n",
    "        df[col] = df[col].astype('float32')\n",
    "    return df\n",
    "\n",
    "\n",
    "def prepare_data():\n",
    "    df_cleaned = pd.read_csv(\"data_cleaned.csv\")\n",
    "\n",
    "    # Specify the input and target columns\n",
    "    input_columns = [\"forks\", \"watchers\", \"releases_freq\", \"pull_requests\", \"readme_size\", \"lines_of_codes\"]\n",
    "    target_column = \"stars\"\n",
    "\n",
    "    # Convert int64 to float32\n",
    "    df_cleaned = convert_columns_to_float32(df_cleaned, input_columns+[target_column])\n",
    "\n",
    "\n",
    "    # Extract the input and target data\n",
    "    X = df_cleaned[input_columns]\n",
    "    y = df_cleaned[target_column]\n",
    "\n",
    "    # Split the data into training and testing sets with a fixed random state\n",
    "    X_train, X_test, y_train, y_test = train_test_split(X, y, test_size=0.2, random_state=42)\n",
    "\n",
    "    # Normalize using only training set statistics\n",
    "    dtypes = list(zip(X.dtypes.index, map(str, X.dtypes)))\n",
    "    for k, dtype in dtypes:\n",
    "        if dtype == \"float32\":\n",
    "            mean = X_train[k].mean()\n",
    "            std = X_train[k].std()\n",
    "\n",
    "            # Apply normalization\n",
    "            X_train.loc[:, k] = (X_train[k] - mean) / std\n",
    "            X_test.loc[:, k] = (X_test[k] - mean) / std\n",
    "\n",
    "    print(\"X_train: {}\".format(X_train.shape))\n",
    "    print(\"y_train: {}\".format(y_train.shape))\n",
    "    print(\"X_test: {}\".format(X_test.shape))\n",
    "    print(\"y_test: {}\".format(y_test.shape))\n",
    "\n",
    "    return X_train, X_test, y_train, y_test, dtypes"
   ]
  },
  {
   "cell_type": "code",
   "execution_count": 9,
   "metadata": {},
   "outputs": [
    {
     "name": "stdout",
     "output_type": "stream",
     "text": [
      "6545\n",
      "                                                    url  \\\n",
      "0      https://api.github.com/repos/0b01/SimGAN-Captcha   \n",
      "1               https://api.github.com/repos/0hq/WebGPT   \n",
      "2        https://api.github.com/repos/0ssamaak0/DLTA-AI   \n",
      "3     https://api.github.com/repos/0x454447415244/Ha...   \n",
      "4            https://api.github.com/repos/gngpp/opengpt   \n",
      "...                                                 ...   \n",
      "6537  https://api.github.com/repos/zyddnys/manga-ima...   \n",
      "6538         https://api.github.com/repos/zyfra/ebonite   \n",
      "6540  https://api.github.com/repos/Zymrael/awesome-n...   \n",
      "6541       https://api.github.com/repos/zyx0814/Pichome   \n",
      "6542    https://api.github.com/repos/zzh8829/yolov3-tf2   \n",
      "\n",
      "                              name           owner  forks  stars  \\\n",
      "0                   SimGAN-Captcha            0b01     80    435   \n",
      "1                           WebGPT             0hq    209   3668   \n",
      "2                          DLTA-AI       0ssamaak0     39    333   \n",
      "3     HandwritingRecognitionSystem  0x454447415244    137    442   \n",
      "4                          opengpt           gngpp    303   1721   \n",
      "...                            ...             ...    ...    ...   \n",
      "6537        manga-image-translator         zyddnys    613   5756   \n",
      "6538                       ebonite           zyfra     10    199   \n",
      "6540            awesome-neural-ode         Zymrael    153   1384   \n",
      "6541                       Pichome         zyx0814     96    900   \n",
      "6542                    yolov3-tf2         zzh8829    906   2511   \n",
      "\n",
      "                                              languages  \\\n",
      "0          {'Jupyter Notebook': 144565, 'Python': 2355}   \n",
      "1     {'JavaScript': 219698, 'HTML': 6479, 'Python':...   \n",
      "2     {'Python': 5565516, 'Shell': 47714, 'Batchfile...   \n",
      "3                                     {'Python': 33272}   \n",
      "4     {'Rust': 662139, 'HTML': 54534, 'Shell': 5600,...   \n",
      "...                                                 ...   \n",
      "6537  {'Python': 1461059, 'Cuda': 64417, 'C++': 3050...   \n",
      "6538                   {'Python': 722678, 'HTML': 1049}   \n",
      "6540                                                 {}   \n",
      "6541  {'PHP': 8024712, 'JavaScript': 6796475, 'HTML'...   \n",
      "6542     {'Jupyter Notebook': 2508114, 'Python': 50494}   \n",
      "\n",
      "                                                commits         creation_date  \\\n",
      "0     ['2024-04-24T11:00:11Z', '2023-12-06T06:53:01Z...  2017-07-22T06:23:20Z   \n",
      "1     ['2024-01-12T18:19:02Z', '2024-01-11T23:43:37Z...  2023-04-20T04:28:56Z   \n",
      "2     ['2024-06-04T21:23:30Z', '2023-12-29T23:40:33Z...  2022-11-06T23:44:03Z   \n",
      "3     ['2022-02-13T11:11:05Z', '2022-02-09T23:40:22Z...  2018-10-27T02:19:21Z   \n",
      "4     ['2024-03-04T05:47:18Z', '2024-02-29T06:53:55Z...  2023-05-20T08:42:58Z   \n",
      "...                                                 ...                   ...   \n",
      "6537  ['2025-01-20T19:17:46Z', '2025-01-20T19:17:38Z...  2021-02-18T03:03:23Z   \n",
      "6538  ['2020-10-19T12:22:49Z', '2020-10-19T12:21:43Z...  2019-11-14T14:49:47Z   \n",
      "6540  ['2024-09-13T16:20:13Z', '2024-06-06T23:11:17Z...  2019-07-14T12:32:08Z   \n",
      "6541  ['2024-09-13T08:52:24Z', '2024-09-13T08:42:23Z...  2021-09-16T02:41:47Z   \n",
      "6542  ['2023-09-25T22:26:43Z', '2023-09-25T22:26:22Z...  2019-04-03T17:57:49Z   \n",
      "\n",
      "      contributors                                             topics  ...  \\\n",
      "0                2  ['captcha-solving', 'gan', 'generative-adversa...  ...   \n",
      "1                8       ['gpt', 'nanogpt', 'transformers', 'webgpu']  ...   \n",
      "2               30  ['annotation', 'computer-vision', 'datasets-pr...  ...   \n",
      "3                3  ['cnn', 'deep-learning', 'handwriting-recognit...  ...   \n",
      "4                7  ['ai', 'chat', 'chatgpt', 'docker', 'openai', ...  ...   \n",
      "...            ...                                                ...  ...   \n",
      "6537            30  ['anime', 'auto-translation', 'chinese-transla...  ...   \n",
      "6538             7    ['ai', 'ebonite', 'machine-learning', 'python']  ...   \n",
      "6540             7  ['deep-learning', 'dynamical-modeling', 'dynam...  ...   \n",
      "6541             1  ['ai', 'cloud', 'cloud-storage', 'file-manager...  ...   \n",
      "6542            20  ['deep-learning', 'machine-learning', 'neural-...  ...   \n",
      "\n",
      "                                                 readme  \\\n",
      "0     ### Capsolver\\n\\n> [![image](https://github.co...   \n",
      "1     # WebGPT\\n\\n![webGPT](other/misc/header.png)\\n...   \n",
      "2     <div align = \"center\">\\n<h1>\\n    <img src = \"...   \n",
      "3     # Handwriting Recognition System\\n\\nThis repos...   \n",
      "4     <br>English | [简体中文](README_zh.md)\\n\\n[![CI](h...   \n",
      "...                                                 ...   \n",
      "6537  # Image/Manga Translator\\n\\n![Commit activity]...   \n",
      "6538  .. image:: ebonite.jpg\\n.. start-badges\\n\\n.. ...   \n",
      "6540  <div align=\"center\">\\n    <h1>Awesome Neural O...   \n",
      "6541  ﻿\\n**演示地址:**[http://pichome.oaooa.com](http://...   \n",
      "6542  # YoloV3 Implemented in TensorFlow 2.0\\n\\n[![O...   \n",
      "\n",
      "                                               releases pull_requests  \\\n",
      "0                                                    []             0   \n",
      "1                                                    []            39   \n",
      "2     [{'name': 'v1.1', 'date': '2023-06-26T14:58:29...             5   \n",
      "3                                                    []            16   \n",
      "4                                                    []           328   \n",
      "...                                                 ...           ...   \n",
      "6537  [{'name': 'beta-0.3', 'date': '2022-04-23T17:5...           207   \n",
      "6538  [{'name': 'v0.7.0', 'date': '2020-10-19T13:25:...           148   \n",
      "6540                                                 []             8   \n",
      "6541  [{'name': 'PicHome Home 2.1.0', 'date': '2024-...             0   \n",
      "6542                                                 []            63   \n",
      "\n",
      "      readme_size  commits_freq  releases_freq  lines_of_codes  \\\n",
      "0           29996             9              0          146920   \n",
      "1            3463            30              0          229182   \n",
      "2            8529            30              5         5616298   \n",
      "3            2541            30              0           33272   \n",
      "4            1426            30              0          724188   \n",
      "...           ...           ...            ...             ...   \n",
      "6537        32332            30              5         1582998   \n",
      "6538         5256            30             16          723727   \n",
      "6540        32102            30              0               0   \n",
      "6541         4179            30             13        17711474   \n",
      "6542        12778            30              0         2558608   \n",
      "\n",
      "      popularity_score_1  popularity_score_2  popularity_score_3  \n",
      "0                    515                 435                 515  \n",
      "1                   5398                5189                3877  \n",
      "2                    397                 358                 372  \n",
      "3                    835                 698                 579  \n",
      "4                 109608              109305                2024  \n",
      "...                  ...                 ...                 ...  \n",
      "6537               49218               48605                6369  \n",
      "6538               22113               22103                 209  \n",
      "6540                1601                1448                1537  \n",
      "6541                 996                 900                 996  \n",
      "6542                7386                6480                3417  \n",
      "\n",
      "[5176 rows x 21 columns]\n"
     ]
    }
   ],
   "source": [
    "df = pd.read_csv('AI_repos.csv')\n",
    "print(len(df))\n",
    "fs = df.head(6545)\n",
    "\n",
    "#first_row = df.iloc[0]\n",
    "#feature_value = df.iloc[0]['creation_date']\n",
    "# str = \"2012-09-24T02:58:25Z\"\n",
    "# date = pd.to_datetime(str)\n",
    "date2017 = pd.to_datetime(\"2017-06-12T17:57:34Z\")\n",
    "# print(date2017 > date)\n",
    "\n",
    "#print(feature_value)\n",
    "\n",
    "print(fs[pd.to_datetime(fs[\"creation_date\"]) > date2017])\n",
    "#fs[pd.to_datetime(fs[\"creation_date\"]) > date2017].to_csv(\"after2017\")\n",
    "af = fs[pd.to_datetime(fs[\"creation_date\"]) > date2017]\n",
    "be = fs[pd.to_datetime(fs[\"creation_date\"]) < date2017]\n"
   ]
  },
  {
   "cell_type": "code",
   "execution_count": 17,
   "metadata": {},
   "outputs": [
    {
     "name": "stdout",
     "output_type": "stream",
     "text": [
      "0.047333642868856676\n"
     ]
    }
   ],
   "source": [
    "pvalue_sum = 0\n",
    "for i in range(1000):\n",
    "    after = af.sample(n=1369)\n",
    "    before = be.sample(n=1369)\n",
    "    str = \"popularity_score_2\" #ttest feature\n",
    "    af_training = after.loc[:,str]\n",
    "    be_training = before.loc[:,str]\n",
    "    # nomalization\n",
    "    afmean = af_training.mean()\n",
    "    afstd = af_training.std()\n",
    "    \n",
    "    af_training = (af_training-afmean) / afstd\n",
    "    be_training = (be_training-afmean) / afstd\n",
    "    statistic, pvalue = stats.ttest_rel(af_training, be_training)\n",
    "    \n",
    "    # print(stats.ttest_rel(af_training, be_training))\n",
    "    statistic_u, pvalue_u = mannwhitneyu(af_training, be_training)\n",
    "    pvalue_sum += pvalue\n",
    "pvalue_avg = pvalue_sum / 1000\n",
    "print(pvalue_avg)\n"
   ]
  },
  {
   "cell_type": "code",
   "execution_count": null,
   "metadata": {},
   "outputs": [],
   "source": [
    "# after.sort_values(by=['popularity_score_3'],ascending=True,inplace=True)\n",
    "# after.plot(y='popularity_score_3', kind='bar')"
   ]
  },
  {
   "cell_type": "code",
   "execution_count": 135,
   "metadata": {},
   "outputs": [
    {
     "data": {
      "text/plain": [
       "<seaborn.axisgrid.FacetGrid at 0x1bfa834e4b0>"
      ]
     },
     "execution_count": 135,
     "metadata": {},
     "output_type": "execute_result"
    },
    {
     "data": {
      "image/png": "[encoded data removed]",
      "text/plain": [
       "<Figure size 500x500 with 1 Axes>"
      ]
     },
     "metadata": {},
     "output_type": "display_data"
    }
   ],
   "source": [
    "# x = (0, 70000, )\n",
    "# y = norm.pdf(, df['popularity_score_3'].mean(), df['popularity_score_3'].std())\n",
    "sns.displot(after['popularity_score_3'],kde = False,bins = 30)"
   ]
  }
 ],
 "metadata": {
  "kernelspec": {
   "display_name": "ttest",
   "language": "python",
   "name": "python3"
  },
  "language_info": {
   "codemirror_mode": {
    "name": "ipython",
    "version": 3
   },
   "file_extension": ".py",
   "mimetype": "text/x-python",
   "name": "python",
   "nbconvert_exporter": "python",
   "pygments_lexer": "ipython3",
   "version": "3.12.9"
  }
 },
 "nbformat": 4,
 "nbformat_minor": 2
}
