{
 "cells": [
  {
   "cell_type": "code",
   "id": "initial_id",
   "metadata": {
    "collapsed": true,
    "ExecuteTime": {
     "end_time": "2025-01-16T04:45:44.377234Z",
     "start_time": "2025-01-16T04:45:44.372875Z"
    }
   },
   "source": "import os",
   "outputs": [],
   "execution_count": 3
  },
  {
   "metadata": {
    "ExecuteTime": {
     "end_time": "2025-01-16T04:45:56.874184Z",
     "start_time": "2025-01-16T04:45:44.977935Z"
    }
   },
   "cell_type": "code",
   "source": [
    "with open(\"github_repo_api_url.txt\", \"r\") as file:\n",
    "    count = 1  # 文件编号\n",
    "    while True:\n",
    "        with open(f\"jobs/{count}.txt\", \"w\") as job_file:\n",
    "            for i in range(100):\n",
    "                line = file.readline()\n",
    "                if i == 499:\n",
    "                    line = line.strip()\n",
    "                if not line:  # 文件已读取完毕\n",
    "                    break\n",
    "                job_file.write(line)\n",
    "        count += 1  # 切换到下一个小文件\n",
    "        # 如果文件已读取完毕，退出循环\n",
    "        if not line:\n",
    "            break\n"
   ],
   "id": "852bd0ccebb2dabc",
   "outputs": [],
   "execution_count": 4
  }
 ],
 "metadata": {
  "kernelspec": {
   "display_name": "Python 3",
   "language": "python",
   "name": "python3"
  },
  "language_info": {
   "codemirror_mode": {
    "name": "ipython",
    "version": 2
   },
   "file_extension": ".py",
   "mimetype": "text/x-python",
   "name": "python",
   "nbconvert_exporter": "python",
   "pygments_lexer": "ipython2",
   "version": "2.7.6"
  }
 },
 "nbformat": 4,
 "nbformat_minor": 5
}
