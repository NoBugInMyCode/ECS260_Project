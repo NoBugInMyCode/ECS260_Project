{
 "cells": [
  {
   "cell_type": "code",
   "id": "478a7926c092097a",
   "metadata": {
    "ExecuteTime": {
     "end_time": "2025-02-18T21:28:54.863563Z",
     "start_time": "2025-02-18T21:28:54.860288Z"
    }
   },
   "source": [
    "import json\n",
    "import os\n",
    "import pandas as pd\n",
    "import torch\n",
    "import torch.nn as nn\n",
    "import torch.optim as optim\n",
    "from sentence_transformers import SentenceTransformer, util\n",
    "import numpy as np\n",
    "from tqdm.auto import tqdm\n",
    "from scipy.stats import gaussian_kde\n",
    "from sklearn.preprocessing import StandardScaler\n",
    "import matplotlib.pyplot as plt\n",
    "from sklearn.model_selection import train_test_split\n",
    "from sklearn.ensemble import RandomForestRegressor\n",
    "from sklearn.metrics import r2_score\n",
    "from torch.utils.data import DataLoader, TensorDataset"
   ],
   "outputs": [],
   "execution_count": 68
  },
  {
   "cell_type": "markdown",
   "id": "9fdb43025fcd3902",
   "metadata": {},
   "source": [
    "# 函数"
   ]
  },
  {
   "cell_type": "code",
   "id": "37443000a56bd6f5",
   "metadata": {
    "ExecuteTime": {
     "end_time": "2025-02-18T21:28:54.874566Z",
     "start_time": "2025-02-18T21:28:54.866573Z"
    }
   },
   "source": [
    "def calculate_commits_freq(commits):\n",
    "    if isinstance(commits, list):\n",
    "        return len(commits)\n",
    "    else:\n",
    "        return 0\n",
    "\n",
    "\n",
    "def calculate_releases_freq(releases):\n",
    "    if isinstance(releases, list):\n",
    "        return len(releases)\n",
    "    else:\n",
    "        return 0\n",
    "\n",
    "\n",
    "def calculate_readme_size(readme):\n",
    "    if isinstance(readme, str):\n",
    "        return len(readme)\n",
    "    else:\n",
    "        return 0\n",
    "\n",
    "\n",
    "def calculate_lines_of_codes(languages):\n",
    "    if isinstance(languages, dict):\n",
    "        return sum(languages.values())\n",
    "    return 0\n",
    "\n",
    "\n",
    "def calculate_number_of_releases(releases):\n",
    "    if isinstance(releases, list):\n",
    "        return len(releases)\n",
    "    return 0\n",
    "\n",
    "\n",
    "def calculate_popularity_score_1(stars, forks, pull_requests):\n",
    "    return stars + forks + pull_requests * pull_requests\n",
    "\n",
    "\n",
    "def calculate_popularity_score_2(watchers, pull_requests):\n",
    "    return watchers + pull_requests * pull_requests\n",
    "\n",
    "\n",
    "def calculate_popularity_score_3(stars, forks):\n",
    "    return stars + forks\n",
    "\n",
    "def classify_topics(topics):\n",
    "    if topics is None or topics is [] or len(topics) == 0:\n",
    "        return \"unknown\"\n",
    "    model = SentenceTransformer('all-MiniLM-L6-v2')\n",
    "    candidate_labels = [\"operating system\", \"networking\", \"cybersecurity\", \"software development\", \"web\", \"AI\", \"database\", \"documentation\", \"programming language\"]\n",
    "    topic_embeddings = model.encode(topics)\n",
    "    label_embeddings = model.encode(candidate_labels)\n",
    "    similarities = util.pytorch_cos_sim(topic_embeddings, label_embeddings)\n",
    "    best_labels = [candidate_labels[idx] for idx in similarities.argmax(dim=1)]\n",
    "    return max(set(best_labels), key=best_labels.count)\n",
    "\n",
    "\n",
    "def detect_and_remove_outliers(df, feature_columns):\n",
    "    df = df.copy()  # Avoid modifying the original DataFrame\n",
    "\n",
    "    for col in feature_columns:\n",
    "        print(col)\n",
    "        # Drop NaN values for this column\n",
    "        df = df.dropna(subset=[col])\n",
    "\n",
    "        # Calculate IQR bounds\n",
    "        Q1 = np.percentile(df[col], 25)  # First quartile (25%)\n",
    "        Q3 = np.percentile(df[col], 75)  # Third quartile (75%)\n",
    "        IQR = Q3 - Q1  # Interquartile range\n",
    "        lower_bound = Q1 - 1.5 * IQR  # Lower bound\n",
    "        upper_bound = Q3 + 1.5 * IQR  # Upper bound\n",
    "\n",
    "        # Create a flag column indicating whether a sample is an outlier\n",
    "        df[f\"{col}_outlier_flag\"] = ((df[col] >= lower_bound) & (df[col] <= upper_bound)).astype(int)\n",
    "\n",
    "        # Plot distributions before and after cleaning\n",
    "        # plot_distribution(df[col], f\"Original {col} Distribution\", f\"original_{col}_distribution.png\")\n",
    "        # plot_distribution(df[df[f\"{col}_outlier_flag\"] == 1][col],\n",
    "        #                        f\"Cleaned {col} Distribution\",\n",
    "        #                        f\"cleaned_{col}_distribution.png\")\n",
    "\n",
    "    # Remove rows where at least one outlier flag is 0 (outlier detected in any feature)\n",
    "    outlier_flags = [f\"{col}_outlier_flag\" for col in feature_columns]\n",
    "    df_cleaned = df[df[outlier_flags].all(axis=1)].copy()\n",
    "\n",
    "    print(f\"Original data size: {len(df)}\")\n",
    "    print(f\"Cleaned data size: {len(df_cleaned)}\")\n",
    "\n",
    "    return df_cleaned, df\n",
    "\n",
    "\n",
    "def plot_distribution(data, title, filename):\n",
    "    \"\"\"\n",
    "    Plots the KDE distribution of a feature and saves it as a PNG file.\n",
    "\n",
    "    Args:\n",
    "    - data (pd.Series): The feature data.\n",
    "    - title (str): Title of the plot.\n",
    "    - filename (str): File path to save the image.\n",
    "    \"\"\"\n",
    "    kde = gaussian_kde(data)\n",
    "    x_values = np.linspace(data.min(), data.max(), 200)\n",
    "    y_values = kde(x_values) * len(data)  # Scale KDE to count\n",
    "\n",
    "    plt.figure(figsize=(8, 6))\n",
    "    plt.plot(x_values, y_values, label=title, color=\"blue\")\n",
    "    plt.fill_between(x_values, y_values, alpha=0.3, color=\"blue\")\n",
    "\n",
    "    plt.xlabel(\"Value\")\n",
    "    plt.ylabel(\"Count\")\n",
    "    plt.title(title)\n",
    "    plt.grid(True)\n",
    "    plt.legend()\n",
    "\n",
    "    # Save the plot\n",
    "    # plt.savefig(filename, dpi=300)\n",
    "    plt.show()\n",
    "\n",
    "class GitHubRepoNN(nn.Module):\n",
    "    def __init__(self, input_size):\n",
    "        super(GitHubRepoNN, self).__init__()\n",
    "        self.fc1 = nn.Linear(input_size, 64)\n",
    "        self.fc2 = nn.Linear(64, 32)\n",
    "        self.fc3 = nn.Linear(32, 1)  # 输出层\n",
    "        self.relu = nn.ReLU()\n",
    "\n",
    "    def forward(self, x):\n",
    "        x = self.relu(self.fc1(x))\n",
    "        x = self.relu(self.fc2(x))\n",
    "        x = self.fc3(x)  # 回归任务不需要激活函数\n",
    "        return x"
   ],
   "outputs": [],
   "execution_count": 69
  },
  {
   "cell_type": "markdown",
   "id": "1dea987652bbfc9c",
   "metadata": {},
   "source": [
    "# 获取所有文件名"
   ]
  },
  {
   "cell_type": "code",
   "id": "e970e7cc0db629b3",
   "metadata": {
    "ExecuteTime": {
     "end_time": "2025-02-18T21:28:55.100264Z",
     "start_time": "2025-02-18T21:28:54.908231Z"
    }
   },
   "source": [
    "tqdm.pandas()\n",
    "file_paths = []\n",
    "for f_name in os.listdir('data'):\n",
    "    if f_name.endswith('json'):\n",
    "        file_paths.append(\"data/\" + f_name)\n",
    "\n",
    "print(f\"Total files detected: {len(file_paths)}\")"
   ],
   "outputs": [
    {
     "name": "stdout",
     "output_type": "stream",
     "text": [
      "Total files detected: 185876\n"
     ]
    }
   ],
   "execution_count": 70
  },
  {
   "cell_type": "markdown",
   "id": "9b35b8839b1c8563",
   "metadata": {},
   "source": [
    "# 读取文件并创建Pandas Dataframe"
   ]
  },
  {
   "cell_type": "code",
   "id": "9eef8bae339ef9b0",
   "metadata": {
    "ExecuteTime": {
     "end_time": "2025-02-18T21:29:15.710056Z",
     "start_time": "2025-02-18T21:28:55.134210Z"
    }
   },
   "source": [
    "error_count = 0\n",
    "rows = []\n",
    "\n",
    "for file_path in file_paths:\n",
    "    try:\n",
    "        with open(file_path, 'r', encoding='utf-8') as file:\n",
    "            data = json.load(file)\n",
    "            pull_requests = data.get(\"pull_requests\", 0)  # 提取 pull_requests\n",
    "\n",
    "            for url, details in data.items():\n",
    "                if url != \"pull_requests\":  # 排除 pull_requests 键\n",
    "                    row = {\"url\": url, \"name\": url.split('/')[-1], \"owner\": url.split('/')[-2]}\n",
    "                    row.update(details)\n",
    "                    row[\"pull_requests\"] = pull_requests  # 添加 pull_requests 到每行数据中\n",
    "                    rows.append(row)\n",
    "    except Exception as e:\n",
    "        error_count += 1\n",
    "\n",
    "df = pd.DataFrame(rows)\n",
    "print(f\"Total errors: {error_count}\")\n",
    "print(f\"Raw data size {len(df)}\")"
   ],
   "outputs": [
    {
     "name": "stdout",
     "output_type": "stream",
     "text": [
      "Total errors: 0\n",
      "Raw data size 185876\n"
     ]
    }
   ],
   "execution_count": 71
  },
  {
   "cell_type": "markdown",
   "id": "9e5f59b2a5b46f4d",
   "metadata": {},
   "source": [
    "# 新增readme_size，lines_of_codes，popularity_score_1(star + fork + pr^2)，popularity_score_2(watcher + pr^2)和popularity_score_3(star + fork)标签"
   ]
  },
  {
   "cell_type": "code",
   "id": "446e41640d305ec3",
   "metadata": {
    "ExecuteTime": {
     "end_time": "2025-02-18T21:29:18.350669Z",
     "start_time": "2025-02-18T21:29:15.745087Z"
    }
   },
   "source": [
    "df[\"readme_size\"] = df[\"readme\"].apply(calculate_readme_size)\n",
    "df[\"commits_freq\"] = df[\"commits\"].apply(calculate_commits_freq)\n",
    "df[\"releases_freq\"] = df[\"releases\"].apply(calculate_releases_freq)\n",
    "df[\"lines_of_codes\"] = df[\"languages\"].apply(calculate_lines_of_codes)\n",
    "df[\"popularity_score_1\"] = df.apply(lambda row: calculate_popularity_score_1(row[\"stars\"], row[\"forks\"], row[\"pull_requests\"]), axis=1)\n",
    "df[\"popularity_score_2\"] = df.apply(lambda row: calculate_popularity_score_2(row[\"watchers\"], row[\"pull_requests\"]), axis=1)\n",
    "df[\"popularity_score_3\"] = df.apply(lambda row: calculate_popularity_score_3(row[\"stars\"], row[\"forks\"]), axis=1)\n",
    "df['releases_count'] = df['releases'].apply(lambda x: len(x) if isinstance(x, list) else 0)\n",
    "print(f\"Column names are: {list(df.columns)}\")"
   ],
   "outputs": [
    {
     "name": "stdout",
     "output_type": "stream",
     "text": [
      "Column names are: ['url', 'name', 'owner', 'forks', 'watchers', 'stars', 'languages', 'commits', 'creation_date', 'contributors', 'topics', 'subscribers', 'readme', 'releases', 'pull_requests', 'readme_size', 'commits_freq', 'releases_freq', 'lines_of_codes', 'popularity_score_1', 'popularity_score_2', 'popularity_score_3', 'releases_count']\n"
     ]
    }
   ],
   "execution_count": 72
  },
  {
   "cell_type": "markdown",
   "id": "376363257c2ab24c",
   "metadata": {},
   "source": [
    "# 统计语言种类"
   ]
  },
  {
   "cell_type": "code",
   "id": "bcbb06aa5b77657a",
   "metadata": {
    "ExecuteTime": {
     "end_time": "2025-02-18T21:29:18.621639Z",
     "start_time": "2025-02-18T21:29:18.382613Z"
    }
   },
   "source": [
    "languages = []\n",
    "for repo_languages in df[\"languages\"]:\n",
    "    if isinstance(repo_languages, dict):  # 确保 repo_languages 是字典类型\n",
    "        for repo_language in repo_languages:\n",
    "            if repo_language not in languages:\n",
    "                languages.append(repo_language)\n",
    "print(f\"There are total {len(languages)} languages\")"
   ],
   "outputs": [
    {
     "name": "stdout",
     "output_type": "stream",
     "text": [
      "There are total 541 languages\n"
     ]
    }
   ],
   "execution_count": 73
  },
  {
   "metadata": {},
   "cell_type": "markdown",
   "source": "# 数据清理",
   "id": "16a087072d5a9aea"
  },
  {
   "metadata": {
    "ExecuteTime": {
     "end_time": "2025-02-18T21:29:33.672736Z",
     "start_time": "2025-02-18T21:29:18.660149Z"
    }
   },
   "cell_type": "code",
   "source": [
    "df_cleaned, df = detect_and_remove_outliers(df, feature_columns=[\"forks\", \"watchers\", \"stars\", \"commits_freq\", \"subscribers\",  \"releases_freq\",  \"pull_requests\",  \"readme_size\", \"lines_of_codes\"])\n",
    "df[['watchers']].to_csv(\"file1.csv\", index=False)\n",
    "df_cleaned[['watchers']].to_csv(\"file2.csv\", index=False)\n",
    "df.to_csv('data_cleaned.csv', index=False)"
   ],
   "id": "af3a9541527767b0",
   "outputs": [
    {
     "name": "stdout",
     "output_type": "stream",
     "text": [
      "forks\n",
      "watchers\n",
      "stars\n",
      "commits_freq\n",
      "subscribers\n",
      "releases_freq\n",
      "pull_requests\n",
      "readme_size\n",
      "lines_of_codes\n",
      "Original data size: 185876\n",
      "Cleaned data size: 77030\n"
     ]
    }
   ],
   "execution_count": 74
  },
  {
   "metadata": {},
   "cell_type": "markdown",
   "source": "# Random Forest，star作为基准",
   "id": "eeb547d74fa7fd7c"
  },
  {
   "metadata": {
    "ExecuteTime": {
     "end_time": "2025-02-18T21:30:16.077395Z",
     "start_time": "2025-02-18T21:29:33.702666Z"
    }
   },
   "cell_type": "code",
   "source": [
    "df['creation_date'] = pd.to_datetime(df['creation_date'])\n",
    "df['creation_year'] = df['creation_date'].dt.year\n",
    "df['creation_month'] = df['creation_date'].dt.month\n",
    "\n",
    "features = ['forks', 'watchers', 'creation_year', 'subscribers', 'releases_count', 'pull_requests', 'readme_size', 'lines_of_codes']\n",
    "X = df[features]\n",
    "y = df['stars']\n",
    "X_train, X_test, y_train, y_test = train_test_split(X, y, test_size=0.2, random_state=42)\n",
    "\n",
    "rf = RandomForestRegressor(n_estimators=100, random_state=42)\n",
    "rf.fit(X_train, y_train)\n",
    "\n",
    "y_pred = rf.predict(X_test)\n",
    "\n",
    "r2 = r2_score(y_test, y_pred)\n",
    "print(f\"R² score: {r2}\")\n",
    "\n",
    "feature_importance = rf.feature_importances_\n",
    "feature_importance_df = pd.DataFrame({'Feature': features, 'Importance': feature_importance})\n",
    "feature_importance_df = feature_importance_df.sort_values(by='Importance', ascending=False)\n",
    "\n",
    "plt.figure(figsize=(10, 6))\n",
    "plt.barh(feature_importance_df['Feature'], feature_importance_df['Importance'], color='skyblue')\n",
    "plt.xlabel(\"Feature Importance\")\n",
    "plt.ylabel(\"Features\")\n",
    "plt.title(\"Feature Importance in Predicting GitHub Stars\")\n",
    "plt.gca().invert_yaxis()\n",
    "plt.show()\n",
    "\n",
    "print(feature_importance_df)"
   ],
   "id": "93152fe060ae1d4b",
   "outputs": [
    {
     "name": "stdout",
     "output_type": "stream",
     "text": [
      "R² score: 0.9997802968299316\n"
     ]
    },
    {
     "data": {
      "text/plain": [
       "<Figure size 1000x600 with 1 Axes>"
      ],
      "image/png": "[encoded data removed]"
     },
     "metadata": {},
     "output_type": "display_data"
    },
    {
     "name": "stdout",
     "output_type": "stream",
     "text": [
      "          Feature  Importance\n",
      "1        watchers    0.997091\n",
      "3     subscribers    0.000868\n",
      "7  lines_of_codes    0.000581\n",
      "5   pull_requests    0.000531\n",
      "2   creation_year    0.000421\n",
      "0           forks    0.000213\n",
      "6     readme_size    0.000184\n",
      "4  releases_count    0.000110\n"
     ]
    }
   ],
   "execution_count": 75
  },
  {
   "metadata": {},
   "cell_type": "markdown",
   "source": "# Random Forest，popularity_score_3作为基准",
   "id": "633a0da8acac272a"
  },
  {
   "metadata": {
    "ExecuteTime": {
     "end_time": "2025-02-18T21:31:25.666560Z",
     "start_time": "2025-02-18T21:30:16.142685Z"
    }
   },
   "cell_type": "code",
   "source": [
    "features = ['watchers', 'creation_year', 'subscribers', 'releases_count', 'pull_requests', 'readme_size', 'lines_of_codes']\n",
    "X = df[features]\n",
    "y = df['popularity_score_3']\n",
    "X_train, X_test, y_train, y_test = train_test_split(X, y, test_size=0.2, random_state=42)\n",
    "\n",
    "rf = RandomForestRegressor(n_estimators=100, random_state=42)\n",
    "rf.fit(X_train, y_train)\n",
    "\n",
    "y_pred = rf.predict(X_test)\n",
    "\n",
    "r2 = r2_score(y_test, y_pred)\n",
    "print(f\"R² score: {r2}\")\n",
    "\n",
    "feature_importance = rf.feature_importances_\n",
    "feature_importance_df = pd.DataFrame({'Feature': features, 'Importance': feature_importance})\n",
    "feature_importance_df = feature_importance_df.sort_values(by='Importance', ascending=False)\n",
    "\n",
    "plt.figure(figsize=(10, 6))\n",
    "plt.barh(feature_importance_df['Feature'], feature_importance_df['Importance'], color='skyblue')\n",
    "plt.xlabel(\"Feature Importance\")\n",
    "plt.ylabel(\"Features\")\n",
    "plt.title(\"Feature Importance in Predicting GitHub Stars\")\n",
    "plt.gca().invert_yaxis()\n",
    "plt.show()\n",
    "\n",
    "print(feature_importance_df)"
   ],
   "id": "546333e3a827b70d",
   "outputs": [
    {
     "name": "stdout",
     "output_type": "stream",
     "text": [
      "R² score: 0.9793497935681033\n"
     ]
    },
    {
     "data": {
      "text/plain": [
       "<Figure size 1000x600 with 1 Axes>"
      ],
      "image/png": "[encoded data removed]"
     },
     "metadata": {},
     "output_type": "display_data"
    },
    {
     "name": "stdout",
     "output_type": "stream",
     "text": [
      "          Feature  Importance\n",
      "0        watchers    0.973852\n",
      "4   pull_requests    0.012112\n",
      "2     subscribers    0.006184\n",
      "6  lines_of_codes    0.003009\n",
      "5     readme_size    0.002691\n",
      "1   creation_year    0.001378\n",
      "3  releases_count    0.000773\n"
     ]
    }
   ],
   "execution_count": 76
  },
  {
   "metadata": {},
   "cell_type": "markdown",
   "source": "# NN，star作为基准",
   "id": "a3791aeb69ee0cac"
  },
  {
   "metadata": {
    "ExecuteTime": {
     "end_time": "2025-02-18T21:34:47.820697Z",
     "start_time": "2025-02-18T21:31:25.706771Z"
    }
   },
   "cell_type": "code",
   "source": [
    "features = ['forks', 'watchers', 'creation_year', 'subscribers', 'releases_count', 'pull_requests', 'readme_size', 'lines_of_codes']\n",
    "X = df[features]\n",
    "y = df['stars']\n",
    "\n",
    "X = X.fillna(X.mean())\n",
    "y = y.fillna(y.mean())\n",
    "\n",
    "scaler = StandardScaler()\n",
    "X = scaler.fit_transform(X)\n",
    "\n",
    "X_tensor = torch.tensor(X, dtype=torch.float32)\n",
    "y_tensor = torch.tensor(y.values, dtype=torch.float32).view(-1, 1)\n",
    "\n",
    "X_train, X_test, y_train, y_test = train_test_split(X_tensor, y_tensor, test_size=0.2, random_state=42)\n",
    "\n",
    "batch_size = 32\n",
    "train_dataset = TensorDataset(X_train, y_train)\n",
    "test_dataset = TensorDataset(X_test, y_test)\n",
    "\n",
    "train_loader = DataLoader(train_dataset, batch_size=batch_size, shuffle=True)\n",
    "test_loader = DataLoader(test_dataset, batch_size=batch_size, shuffle=False)\n",
    "\n",
    "input_size = X.shape[1]\n",
    "model = GitHubRepoNN(input_size)\n",
    "\n",
    "criterion = nn.MSELoss()\n",
    "optimizer = optim.Adam(model.parameters(), lr=0.001)\n",
    "\n",
    "num_epochs = 50\n",
    "device = torch.device(\"cuda\" if torch.cuda.is_available() else \"cpu\")\n",
    "model.to(device)\n",
    "\n",
    "for epoch in range(num_epochs):\n",
    "    model.train()\n",
    "    total_loss = 0\n",
    "\n",
    "    for X_batch, y_batch in train_loader:\n",
    "        X_batch, y_batch = X_batch.to(device), y_batch.to(device)\n",
    "\n",
    "        y_pred = model(X_batch)\n",
    "        loss = criterion(y_pred, y_batch)\n",
    "\n",
    "        optimizer.zero_grad()\n",
    "        loss.backward()\n",
    "        optimizer.step()\n",
    "\n",
    "        total_loss += loss.item()\n",
    "\n",
    "    avg_loss = total_loss / len(train_loader)\n",
    "    print(f\"Epoch [{epoch+1}/{num_epochs}], Loss: {avg_loss:.4f}\")\n",
    "\n",
    "model.eval()\n",
    "with torch.no_grad():\n",
    "    y_test_pred = model(X_test.to(device)).cpu().numpy()\n",
    "\n",
    "r2 = r2_score(y_test.numpy(), y_test_pred)\n",
    "print(f\"R² score: {r2}\")\n",
    "\n",
    "feature_importance = model.fc1.weight.cpu().detach().numpy()\n",
    "\n",
    "importance_scores = np.mean(np.abs(feature_importance), axis=0)\n",
    "\n",
    "feature_importance_df = pd.DataFrame({\n",
    "    'Feature': features,\n",
    "    'Importance': importance_scores\n",
    "}).sort_values(by='Importance', ascending=False)\n",
    "\n",
    "plt.figure(figsize=(10, 6))\n",
    "plt.barh(feature_importance_df['Feature'], feature_importance_df['Importance'], color='skyblue')\n",
    "plt.xlabel(\"Feature Importance (Weight Magnitude)\")\n",
    "plt.ylabel(\"Features\")\n",
    "plt.title(\"Feature Importance in Predicting GitHub Stars (NN)\")\n",
    "plt.gca().invert_yaxis()\n",
    "plt.show()\n",
    "\n",
    "print(feature_importance_df)"
   ],
   "id": "669241e01e52d9db",
   "outputs": [
    {
     "name": "stdout",
     "output_type": "stream",
     "text": [
      "Epoch [1/50], Loss: 15471189.4030\n",
      "Epoch [2/50], Loss: 4674655.4416\n",
      "Epoch [3/50], Loss: 2436477.2124\n",
      "Epoch [4/50], Loss: 1129572.2879\n",
      "Epoch [5/50], Loss: 383037.8349\n",
      "Epoch [6/50], Loss: 122164.1735\n",
      "Epoch [7/50], Loss: 72143.8271\n",
      "Epoch [8/50], Loss: 45800.5016\n",
      "Epoch [9/50], Loss: 30517.2450\n",
      "Epoch [10/50], Loss: 18895.1044\n",
      "Epoch [11/50], Loss: 11921.7238\n",
      "Epoch [12/50], Loss: 7202.9463\n",
      "Epoch [13/50], Loss: 4832.3466\n",
      "Epoch [14/50], Loss: 2207.1883\n",
      "Epoch [15/50], Loss: 1939.4770\n",
      "Epoch [16/50], Loss: 1429.5990\n",
      "Epoch [17/50], Loss: 494.5472\n",
      "Epoch [18/50], Loss: 2131.9264\n",
      "Epoch [19/50], Loss: 712.0739\n",
      "Epoch [20/50], Loss: 448.1296\n",
      "Epoch [21/50], Loss: 853.5291\n",
      "Epoch [22/50], Loss: 2051.1383\n",
      "Epoch [23/50], Loss: 1654.6957\n",
      "Epoch [24/50], Loss: 384.4295\n",
      "Epoch [25/50], Loss: 920.5814\n",
      "Epoch [26/50], Loss: 1405.0021\n",
      "Epoch [27/50], Loss: 1021.8539\n",
      "Epoch [28/50], Loss: 1815.7422\n",
      "Epoch [29/50], Loss: 500.1647\n",
      "Epoch [30/50], Loss: 825.1018\n",
      "Epoch [31/50], Loss: 1200.5818\n",
      "Epoch [32/50], Loss: 1564.1156\n",
      "Epoch [33/50], Loss: 747.8573\n",
      "Epoch [34/50], Loss: 646.7914\n",
      "Epoch [35/50], Loss: 1682.9367\n",
      "Epoch [36/50], Loss: 553.1194\n",
      "Epoch [37/50], Loss: 5354.3241\n",
      "Epoch [38/50], Loss: 52.2204\n",
      "Epoch [39/50], Loss: 1437.2247\n",
      "Epoch [40/50], Loss: 746.1265\n",
      "Epoch [41/50], Loss: 1151.7668\n",
      "Epoch [42/50], Loss: 1958.2420\n",
      "Epoch [43/50], Loss: 168.5981\n",
      "Epoch [44/50], Loss: 1047.9551\n",
      "Epoch [45/50], Loss: 1545.5133\n",
      "Epoch [46/50], Loss: 335.9758\n",
      "Epoch [47/50], Loss: 430.1427\n",
      "Epoch [48/50], Loss: 2181.9840\n",
      "Epoch [49/50], Loss: 1449.2436\n",
      "Epoch [50/50], Loss: 472.3527\n",
      "R² score: 0.9999991059303284\n"
     ]
    },
    {
     "data": {
      "text/plain": [
       "<Figure size 1000x600 with 1 Axes>"
      ],
      "image/png": "[encoded data removed]"
     },
     "metadata": {},
     "output_type": "display_data"
    },
    {
     "name": "stdout",
     "output_type": "stream",
     "text": [
      "          Feature  Importance\n",
      "1        watchers    2.847286\n",
      "7  lines_of_codes    0.033185\n",
      "3     subscribers    0.028937\n",
      "5   pull_requests    0.025667\n",
      "6     readme_size    0.022171\n",
      "0           forks    0.011035\n",
      "2   creation_year    0.009510\n",
      "4  releases_count    0.009066\n"
     ]
    }
   ],
   "execution_count": 77
  },
  {
   "metadata": {},
   "cell_type": "markdown",
   "source": "# NN，popularity_score_3作为基准",
   "id": "685c8b91456982e2"
  },
  {
   "metadata": {
    "ExecuteTime": {
     "end_time": "2025-02-18T21:38:09.019628Z",
     "start_time": "2025-02-18T21:34:47.876133Z"
    }
   },
   "cell_type": "code",
   "source": [
    "features = ['watchers', 'creation_year', 'subscribers', 'releases_count', 'pull_requests', 'readme_size', 'lines_of_codes']\n",
    "X = df[features]\n",
    "y = df['popularity_score_3']\n",
    "\n",
    "X = X.fillna(X.mean())  # 用均值填充\n",
    "y = y.fillna(y.mean())\n",
    "\n",
    "scaler = StandardScaler()\n",
    "X = scaler.fit_transform(X)  # 归一化特征\n",
    "\n",
    "X_tensor = torch.tensor(X, dtype=torch.float32)\n",
    "y_tensor = torch.tensor(y.values, dtype=torch.float32).view(-1, 1)\n",
    "\n",
    "X_train, X_test, y_train, y_test = train_test_split(X_tensor, y_tensor, test_size=0.2, random_state=42)\n",
    "\n",
    "batch_size = 32\n",
    "train_dataset = TensorDataset(X_train, y_train)\n",
    "test_dataset = TensorDataset(X_test, y_test)\n",
    "\n",
    "train_loader = DataLoader(train_dataset, batch_size=batch_size, shuffle=True)\n",
    "test_loader = DataLoader(test_dataset, batch_size=batch_size, shuffle=False)\n",
    "\n",
    "input_size = X.shape[1]\n",
    "model = GitHubRepoNN(input_size)\n",
    "\n",
    "criterion = nn.MSELoss()\n",
    "optimizer = optim.Adam(model.parameters(), lr=0.001)\n",
    "\n",
    "num_epochs = 50\n",
    "device = torch.device(\"cuda\" if torch.cuda.is_available() else \"cpu\")\n",
    "model.to(device)\n",
    "\n",
    "for epoch in range(num_epochs):\n",
    "    model.train()\n",
    "    total_loss = 0\n",
    "\n",
    "    for X_batch, y_batch in train_loader:\n",
    "        X_batch, y_batch = X_batch.to(device), y_batch.to(device)\n",
    "\n",
    "        y_pred = model(X_batch)\n",
    "        loss = criterion(y_pred, y_batch)\n",
    "\n",
    "        optimizer.zero_grad()\n",
    "        loss.backward()\n",
    "        optimizer.step()\n",
    "\n",
    "        total_loss += loss.item()\n",
    "\n",
    "    avg_loss = total_loss / len(train_loader)\n",
    "    print(f\"Epoch [{epoch+1}/{num_epochs}], Loss: {avg_loss:.4f}\")\n",
    "\n",
    "model.eval()\n",
    "with torch.no_grad():\n",
    "    y_test_pred = model(X_test.to(device)).cpu().numpy()\n",
    "\n",
    "r2 = r2_score(y_test.numpy(), y_test_pred)\n",
    "print(f\"R² score: {r2}\")\n",
    "\n",
    "feature_importance = model.fc1.weight.cpu().detach().numpy()\n",
    "\n",
    "importance_scores = np.mean(np.abs(feature_importance), axis=0)\n",
    "\n",
    "feature_importance_df = pd.DataFrame({\n",
    "    'Feature': features,\n",
    "    'Importance': importance_scores\n",
    "}).sort_values(by='Importance', ascending=False)\n",
    "\n",
    "plt.figure(figsize=(10, 6))\n",
    "plt.barh(feature_importance_df['Feature'], feature_importance_df['Importance'], color='skyblue')\n",
    "plt.xlabel(\"Feature Importance (Weight Magnitude)\")\n",
    "plt.ylabel(\"Features\")\n",
    "plt.title(\"Feature Importance in Predicting GitHub Stars (NN)\")\n",
    "plt.gca().invert_yaxis()\n",
    "plt.show()\n",
    "\n",
    "print(feature_importance_df)\n"
   ],
   "id": "95af3f7d07d78b76",
   "outputs": [
    {
     "name": "stdout",
     "output_type": "stream",
     "text": [
      "Epoch [1/50], Loss: 21132913.8089\n",
      "Epoch [2/50], Loss: 5363899.8228\n",
      "Epoch [3/50], Loss: 2617742.6884\n",
      "Epoch [4/50], Loss: 1518834.5265\n",
      "Epoch [5/50], Loss: 1110272.4989\n",
      "Epoch [6/50], Loss: 995923.2751\n",
      "Epoch [7/50], Loss: 972615.9388\n",
      "Epoch [8/50], Loss: 957313.6257\n",
      "Epoch [9/50], Loss: 951032.4836\n",
      "Epoch [10/50], Loss: 948899.1975\n",
      "Epoch [11/50], Loss: 942511.2594\n",
      "Epoch [12/50], Loss: 930995.1302\n",
      "Epoch [13/50], Loss: 927742.9704\n",
      "Epoch [14/50], Loss: 934430.8907\n",
      "Epoch [15/50], Loss: 930648.6455\n",
      "Epoch [16/50], Loss: 921307.0810\n",
      "Epoch [17/50], Loss: 927281.9203\n",
      "Epoch [18/50], Loss: 927114.6125\n",
      "Epoch [19/50], Loss: 926650.1194\n",
      "Epoch [20/50], Loss: 923299.0106\n",
      "Epoch [21/50], Loss: 914980.9125\n",
      "Epoch [22/50], Loss: 924219.5767\n",
      "Epoch [23/50], Loss: 923507.9563\n",
      "Epoch [24/50], Loss: 918984.0133\n",
      "Epoch [25/50], Loss: 913167.0635\n",
      "Epoch [26/50], Loss: 914565.9002\n",
      "Epoch [27/50], Loss: 904414.0028\n",
      "Epoch [28/50], Loss: 905024.4518\n",
      "Epoch [29/50], Loss: 907762.9440\n",
      "Epoch [30/50], Loss: 900093.6334\n",
      "Epoch [31/50], Loss: 903833.6177\n",
      "Epoch [32/50], Loss: 903147.8633\n",
      "Epoch [33/50], Loss: 895977.0475\n",
      "Epoch [34/50], Loss: 887995.4421\n",
      "Epoch [35/50], Loss: 898223.8507\n",
      "Epoch [36/50], Loss: 890111.1032\n",
      "Epoch [37/50], Loss: 884045.4442\n",
      "Epoch [38/50], Loss: 893848.1020\n",
      "Epoch [39/50], Loss: 886584.1258\n",
      "Epoch [40/50], Loss: 881318.4658\n",
      "Epoch [41/50], Loss: 877312.9751\n",
      "Epoch [42/50], Loss: 887208.9638\n",
      "Epoch [43/50], Loss: 888700.7870\n",
      "Epoch [44/50], Loss: 884025.5626\n",
      "Epoch [45/50], Loss: 892190.0194\n",
      "Epoch [46/50], Loss: 892568.6268\n",
      "Epoch [47/50], Loss: 885583.6212\n",
      "Epoch [48/50], Loss: 873007.8603\n",
      "Epoch [49/50], Loss: 881982.9930\n",
      "Epoch [50/50], Loss: 887595.3389\n",
      "R² score: 0.9797346591949463\n"
     ]
    },
    {
     "data": {
      "text/plain": [
       "<Figure size 1000x600 with 1 Axes>"
      ],
      "image/png": "[encoded data removed]"
     },
     "metadata": {},
     "output_type": "display_data"
    },
    {
     "name": "stdout",
     "output_type": "stream",
     "text": [
      "          Feature  Importance\n",
      "0        watchers    2.354394\n",
      "2     subscribers    0.415800\n",
      "3  releases_count    0.277333\n",
      "5     readme_size    0.265710\n",
      "4   pull_requests    0.218766\n",
      "1   creation_year    0.167648\n",
      "6  lines_of_codes    0.125901\n"
     ]
    }
   ],
   "execution_count": 78
  }
 ],
 "metadata": {
  "kernelspec": {
   "display_name": "ecs260",
   "language": "python",
   "name": "python3"
  },
  "language_info": {
   "codemirror_mode": {
    "name": "ipython",
    "version": 3
   },
   "file_extension": ".py",
   "mimetype": "text/x-python",
   "name": "python",
   "nbconvert_exporter": "python",
   "pygments_lexer": "ipython3",
   "version": "3.12.8"
  }
 },
 "nbformat": 5,
 "nbformat_minor": 9
}
