{
 "cells": [
  {
   "cell_type": "code",
   "id": "478a7926c092097a",
   "metadata": {
    "ExecuteTime": {
     "end_time": "2025-03-03T03:22:11.772083Z",
     "start_time": "2025-03-03T03:22:04.025171Z"
    }
   },
   "source": [
    "import json\n",
    "import os\n",
    "import pandas as pd\n",
    "import torch\n",
    "import torch.nn as nn\n",
    "import torch.optim as optim\n",
    "from sentence_transformers import SentenceTransformer, util\n",
    "import numpy as np\n",
    "from tqdm.auto import tqdm\n",
    "from scipy.stats import gaussian_kde\n",
    "from sklearn.preprocessing import StandardScaler\n",
    "import matplotlib.pyplot as plt\n",
    "from sklearn.model_selection import train_test_split\n",
    "from sklearn.ensemble import RandomForestRegressor\n",
    "from sklearn.metrics import r2_score\n",
    "from torch.utils.data import DataLoader, TensorDataset"
   ],
   "outputs": [
    {
     "name": "stderr",
     "output_type": "stream",
     "text": [
      "C:\\Users\\29400\\anaconda3\\envs\\ecs260\\Lib\\site-packages\\tqdm\\auto.py:21: TqdmWarning: IProgress not found. Please update jupyter and ipywidgets. See https://ipywidgets.readthedocs.io/en/stable/user_install.html\n",
      "  from .autonotebook import tqdm as notebook_tqdm\n"
     ]
    }
   ],
   "execution_count": 1
  },
  {
   "cell_type": "markdown",
   "id": "9fdb43025fcd3902",
   "metadata": {},
   "source": [
    "# 函数"
   ]
  },
  {
   "cell_type": "code",
   "id": "37443000a56bd6f5",
   "metadata": {
    "ExecuteTime": {
     "end_time": "2025-03-03T03:22:11.791978Z",
     "start_time": "2025-03-03T03:22:11.781114Z"
    }
   },
   "source": [
    "def calculate_commits_freq(commits):\n",
    "    if isinstance(commits, list):\n",
    "        return len(commits)\n",
    "    else:\n",
    "        return 0\n",
    "\n",
    "\n",
    "def calculate_releases_freq(releases):\n",
    "    if isinstance(releases, list):\n",
    "        return len(releases)\n",
    "    else:\n",
    "        return 0\n",
    "\n",
    "\n",
    "def calculate_readme_size(readme):\n",
    "    if isinstance(readme, str):\n",
    "        return len(readme)\n",
    "    else:\n",
    "        return 0\n",
    "\n",
    "\n",
    "def calculate_lines_of_codes(languages):\n",
    "    if isinstance(languages, dict):\n",
    "        return sum(languages.values())\n",
    "    return 0\n",
    "\n",
    "\n",
    "def calculate_number_of_releases(releases):\n",
    "    if isinstance(releases, list):\n",
    "        return len(releases)\n",
    "    return 0\n",
    "\n",
    "\n",
    "def calculate_popularity_score_1(stars, forks, pull_requests):\n",
    "    return stars + forks + pull_requests * pull_requests\n",
    "\n",
    "\n",
    "def calculate_popularity_score_2(watchers, pull_requests):\n",
    "    return watchers + pull_requests * pull_requests\n",
    "\n",
    "\n",
    "def calculate_popularity_score_3(stars, forks):\n",
    "    return stars + forks\n",
    "\n",
    "def classify_topics(topics):\n",
    "    if topics is None or topics is [] or len(topics) == 0:\n",
    "        return \"unknown\"\n",
    "    model = SentenceTransformer('all-MiniLM-L6-v2')\n",
    "    candidate_labels = [\"operating system\", \"networking\", \"cybersecurity\", \"software development\", \"web\", \"AI\", \"database\", \"documentation\", \"programming language\"]\n",
    "    topic_embeddings = model.encode(topics)\n",
    "    label_embeddings = model.encode(candidate_labels)\n",
    "    similarities = util.pytorch_cos_sim(topic_embeddings, label_embeddings)\n",
    "    best_labels = [candidate_labels[idx] for idx in similarities.argmax(dim=1)]\n",
    "    return max(set(best_labels), key=best_labels.count)\n",
    "\n",
    "\n",
    "def detect_and_remove_outliers(df, feature_columns):\n",
    "    df = df.copy()  # Avoid modifying the original DataFrame\n",
    "\n",
    "    for col in feature_columns:\n",
    "        print(col)\n",
    "        # Drop NaN values for this column\n",
    "        df = df.dropna(subset=[col])\n",
    "\n",
    "        # Calculate IQR bounds\n",
    "        Q1 = np.percentile(df[col], 25)  # First quartile (25%)\n",
    "        Q3 = np.percentile(df[col], 75)  # Third quartile (75%)\n",
    "        IQR = Q3 - Q1  # Interquartile range\n",
    "        lower_bound = Q1 - 1.5 * IQR  # Lower bound\n",
    "        upper_bound = Q3 + 1.5 * IQR  # Upper bound\n",
    "\n",
    "        # Create a flag column indicating whether a sample is an outlier\n",
    "        df[f\"{col}_outlier_flag\"] = ((df[col] >= lower_bound) & (df[col] <= upper_bound)).astype(int)\n",
    "\n",
    "        # Plot distributions before and after cleaning\n",
    "        # plot_distribution(df[col], f\"Original {col} Distribution\", f\"original_{col}_distribution.png\")\n",
    "        # plot_distribution(df[df[f\"{col}_outlier_flag\"] == 1][col],\n",
    "        #                        f\"Cleaned {col} Distribution\",\n",
    "        #                        f\"cleaned_{col}_distribution.png\")\n",
    "\n",
    "    # Remove rows where at least one outlier flag is 0 (outlier detected in any feature)\n",
    "    outlier_flags = [f\"{col}_outlier_flag\" for col in feature_columns]\n",
    "    df_cleaned = df[df[outlier_flags].all(axis=1)].copy()\n",
    "\n",
    "    print(f\"Original data size: {len(df)}\")\n",
    "    print(f\"Cleaned data size: {len(df_cleaned)}\")\n",
    "\n",
    "    return df_cleaned, df\n",
    "\n",
    "\n",
    "def plot_distribution(data, title, filename):\n",
    "    \"\"\"\n",
    "    Plots the KDE distribution of a feature and saves it as a PNG file.\n",
    "\n",
    "    Args:\n",
    "    - data (pd.Series): The feature data.\n",
    "    - title (str): Title of the plot.\n",
    "    - filename (str): File path to save the image.\n",
    "    \"\"\"\n",
    "    kde = gaussian_kde(data)\n",
    "    x_values = np.linspace(data.min(), data.max(), 200)\n",
    "    y_values = kde(x_values) * len(data)  # Scale KDE to count\n",
    "\n",
    "    plt.figure(figsize=(8, 6))\n",
    "    plt.plot(x_values, y_values, label=title, color=\"blue\")\n",
    "    plt.fill_between(x_values, y_values, alpha=0.3, color=\"blue\")\n",
    "\n",
    "    plt.xlabel(\"Value\")\n",
    "    plt.ylabel(\"Count\")\n",
    "    plt.title(title)\n",
    "    plt.grid(True)\n",
    "    plt.legend()\n",
    "\n",
    "    # Save the plot\n",
    "    # plt.savefig(filename, dpi=300)\n",
    "    plt.show()\n",
    "\n",
    "class GitHubRepoNN(nn.Module):\n",
    "    def __init__(self, input_size):\n",
    "        super(GitHubRepoNN, self).__init__()\n",
    "        self.fc1 = nn.Linear(input_size, 64)\n",
    "        self.fc2 = nn.Linear(64, 32)\n",
    "        self.fc3 = nn.Linear(32, 1)  # 输出层\n",
    "        self.relu = nn.ReLU()\n",
    "\n",
    "    def forward(self, x):\n",
    "        x = self.relu(self.fc1(x))\n",
    "        x = self.relu(self.fc2(x))\n",
    "        x = self.fc3(x)  # 回归任务不需要激活函数\n",
    "        return x"
   ],
   "outputs": [],
   "execution_count": 2
  },
  {
   "cell_type": "markdown",
   "id": "1dea987652bbfc9c",
   "metadata": {},
   "source": [
    "# 获取所有文件名"
   ]
  },
  {
   "cell_type": "code",
   "id": "e970e7cc0db629b3",
   "metadata": {
    "ExecuteTime": {
     "end_time": "2025-03-03T03:22:11.999680Z",
     "start_time": "2025-03-03T03:22:11.801615Z"
    }
   },
   "source": [
    "tqdm.pandas()\n",
    "file_paths = []\n",
    "for f_name in os.listdir('data'):\n",
    "    if f_name.endswith('json'):\n",
    "        file_paths.append(\"data/\" + f_name)\n",
    "\n",
    "print(f\"Total files detected: {len(file_paths)}\")"
   ],
   "outputs": [
    {
     "name": "stdout",
     "output_type": "stream",
     "text": [
      "Total files detected: 185876\n"
     ]
    }
   ],
   "execution_count": 3
  },
  {
   "cell_type": "markdown",
   "id": "9b35b8839b1c8563",
   "metadata": {},
   "source": [
    "# 读取文件并创建Pandas Dataframe"
   ]
  },
  {
   "cell_type": "code",
   "id": "9eef8bae339ef9b0",
   "metadata": {
    "ExecuteTime": {
     "end_time": "2025-03-03T03:23:21.946702Z",
     "start_time": "2025-03-03T03:22:12.311527Z"
    }
   },
   "source": [
    "error_count = 0\n",
    "rows = []\n",
    "\n",
    "for file_path in file_paths:\n",
    "    try:\n",
    "        with open(file_path, 'r', encoding='utf-8') as file:\n",
    "            data = json.load(file)\n",
    "            pull_requests = data.get(\"pull_requests\", 0)  # 提取 pull_requests\n",
    "\n",
    "            for url, details in data.items():\n",
    "                if url != \"pull_requests\":  # 排除 pull_requests 键\n",
    "                    row = {\"url\": url, \"name\": url.split('/')[-1], \"owner\": url.split('/')[-2]}\n",
    "                    row.update(details)\n",
    "                    row[\"pull_requests\"] = pull_requests  # 添加 pull_requests 到每行数据中\n",
    "                    rows.append(row)\n",
    "    except Exception as e:\n",
    "        error_count += 1\n",
    "\n",
    "df = pd.DataFrame(rows)\n",
    "print(f\"Total errors: {error_count}\")\n",
    "print(f\"Raw data size {len(df)}\")"
   ],
   "outputs": [
    {
     "name": "stdout",
     "output_type": "stream",
     "text": [
      "Total errors: 0\n",
      "Raw data size 185876\n"
     ]
    }
   ],
   "execution_count": 4
  },
  {
   "cell_type": "markdown",
   "id": "9e5f59b2a5b46f4d",
   "metadata": {},
   "source": [
    "# 新增readme_size，lines_of_codes，popularity_score_1(star + fork + pr^2)，popularity_score_2(watcher + pr^2)和popularity_score_3(star + fork)标签"
   ]
  },
  {
   "cell_type": "code",
   "id": "446e41640d305ec3",
   "metadata": {
    "ExecuteTime": {
     "end_time": "2025-03-03T03:23:24.526914Z",
     "start_time": "2025-03-03T03:23:22.016278Z"
    }
   },
   "source": [
    "df[\"readme_size\"] = df[\"readme\"].apply(calculate_readme_size)\n",
    "df[\"commits_freq\"] = df[\"commits\"].apply(calculate_commits_freq)\n",
    "df[\"releases_freq\"] = df[\"releases\"].apply(calculate_releases_freq)\n",
    "df[\"lines_of_codes\"] = df[\"languages\"].apply(calculate_lines_of_codes)\n",
    "df[\"popularity_score_1\"] = df.apply(lambda row: calculate_popularity_score_1(row[\"stars\"], row[\"forks\"], row[\"pull_requests\"]), axis=1)\n",
    "df[\"popularity_score_2\"] = df.apply(lambda row: calculate_popularity_score_2(row[\"watchers\"], row[\"pull_requests\"]), axis=1)\n",
    "df[\"popularity_score_3\"] = df.apply(lambda row: calculate_popularity_score_3(row[\"stars\"], row[\"forks\"]), axis=1)\n",
    "df['releases_count'] = df['releases'].apply(lambda x: len(x) if isinstance(x, list) else 0)\n",
    "print(f\"Column names are: {list(df.columns)}\")"
   ],
   "outputs": [
    {
     "name": "stdout",
     "output_type": "stream",
     "text": [
      "Column names are: ['url', 'name', 'owner', 'forks', 'watchers', 'stars', 'languages', 'commits', 'creation_date', 'contributors', 'topics', 'subscribers', 'readme', 'releases', 'pull_requests', 'readme_size', 'commits_freq', 'releases_freq', 'lines_of_codes', 'popularity_score_1', 'popularity_score_2', 'popularity_score_3', 'releases_count']\n"
     ]
    }
   ],
   "execution_count": 5
  },
  {
   "cell_type": "markdown",
   "id": "376363257c2ab24c",
   "metadata": {},
   "source": [
    "# 统计语言种类"
   ]
  },
  {
   "cell_type": "code",
   "id": "bcbb06aa5b77657a",
   "metadata": {
    "ExecuteTime": {
     "end_time": "2025-03-03T03:23:24.775204Z",
     "start_time": "2025-03-03T03:23:24.532920Z"
    }
   },
   "source": [
    "languages = []\n",
    "for repo_languages in df[\"languages\"]:\n",
    "    if isinstance(repo_languages, dict):  # 确保 repo_languages 是字典类型\n",
    "        for repo_language in repo_languages:\n",
    "            if repo_language not in languages:\n",
    "                languages.append(repo_language)\n",
    "print(f\"There are total {len(languages)} languages\")"
   ],
   "outputs": [
    {
     "name": "stdout",
     "output_type": "stream",
     "text": [
      "There are total 541 languages\n"
     ]
    }
   ],
   "execution_count": 6
  },
  {
   "metadata": {},
   "cell_type": "markdown",
   "source": "# 数据清理",
   "id": "16a087072d5a9aea"
  },
  {
   "metadata": {
    "ExecuteTime": {
     "end_time": "2025-03-03T03:23:38.319179Z",
     "start_time": "2025-03-03T03:23:24.788419Z"
    }
   },
   "cell_type": "code",
   "source": [
    "df_cleaned, df = detect_and_remove_outliers(df, feature_columns=[\"forks\", \"watchers\", \"stars\", \"commits_freq\", \"subscribers\",  \"releases_freq\",  \"pull_requests\",  \"readme_size\", \"lines_of_codes\"])\n",
    "df[['watchers']].to_csv(\"file1.csv\", index=False)\n",
    "df_cleaned[['watchers']].to_csv(\"file2.csv\", index=False)\n",
    "df.to_csv('data_cleaned.csv', index=False)"
   ],
   "id": "af3a9541527767b0",
   "outputs": [
    {
     "name": "stdout",
     "output_type": "stream",
     "text": [
      "forks\n",
      "watchers\n",
      "stars\n",
      "commits_freq\n",
      "subscribers\n",
      "releases_freq\n",
      "pull_requests\n",
      "readme_size\n",
      "lines_of_codes\n",
      "Original data size: 185876\n",
      "Cleaned data size: 77030\n"
     ]
    }
   ],
   "execution_count": 7
  },
  {
   "metadata": {},
   "cell_type": "markdown",
   "source": "# Random Forest，star作为基准",
   "id": "eeb547d74fa7fd7c"
  },
  {
   "metadata": {
    "ExecuteTime": {
     "end_time": "2025-03-03T03:24:21.338432Z",
     "start_time": "2025-03-03T03:23:38.335226Z"
    }
   },
   "cell_type": "code",
   "source": [
    "df['creation_date'] = pd.to_datetime(df['creation_date'])\n",
    "df['creation_year'] = df['creation_date'].dt.year\n",
    "df['creation_month'] = df['creation_date'].dt.month\n",
    "\n",
    "features = ['forks', 'watchers', 'creation_year', 'subscribers', 'releases_count', 'pull_requests', 'readme_size', 'lines_of_codes']\n",
    "X = df[features]\n",
    "y = df['stars']\n",
    "X_train, X_test, y_train, y_test = train_test_split(X, y, test_size=0.2, random_state=42)\n",
    "\n",
    "rf = RandomForestRegressor(n_estimators=100, random_state=42)\n",
    "rf.fit(X_train, y_train)\n",
    "\n",
    "y_pred = rf.predict(X_test)\n",
    "\n",
    "r2 = r2_score(y_test, y_pred)\n",
    "print(f\"R² score: {r2}\")\n",
    "\n",
    "feature_importance = rf.feature_importances_\n",
    "feature_importance_df = pd.DataFrame({'Feature': features, 'Importance': feature_importance})\n",
    "feature_importance_df = feature_importance_df.sort_values(by='Importance', ascending=False)\n",
    "\n",
    "plt.figure(figsize=(10, 6))\n",
    "plt.barh(feature_importance_df['Feature'], feature_importance_df['Importance'], color='skyblue')\n",
    "plt.xlabel(\"Feature Importance\")\n",
    "plt.ylabel(\"Features\")\n",
    "plt.title(\"Feature Importance in Predicting GitHub Stars (Random Forest)\")\n",
    "plt.gca().invert_yaxis()\n",
    "plt.show()\n",
    "\n",
    "print(feature_importance_df)"
   ],
   "id": "93152fe060ae1d4b",
   "outputs": [
    {
     "name": "stdout",
     "output_type": "stream",
     "text": [
      "R² score: 0.9997802968299316\n"
     ]
    },
    {
     "data": {
      "text/plain": [
       "<Figure size 1000x600 with 1 Axes>"
      ],
      "image/png": "[encoded data removed]"
     },
     "metadata": {},
     "output_type": "display_data"
    },
    {
     "name": "stdout",
     "output_type": "stream",
     "text": [
      "          Feature  Importance\n",
      "1        watchers    0.997091\n",
      "3     subscribers    0.000868\n",
      "7  lines_of_codes    0.000581\n",
      "5   pull_requests    0.000531\n",
      "2   creation_year    0.000421\n",
      "0           forks    0.000213\n",
      "6     readme_size    0.000184\n",
      "4  releases_count    0.000110\n"
     ]
    }
   ],
   "execution_count": 8
  },
  {
   "metadata": {},
   "cell_type": "markdown",
   "source": "# Random Forest，popularity_score_3作为基准",
   "id": "633a0da8acac272a"
  },
  {
   "metadata": {
    "ExecuteTime": {
     "end_time": "2025-03-03T03:25:33.285629Z",
     "start_time": "2025-03-03T03:24:21.355973Z"
    }
   },
   "cell_type": "code",
   "source": [
    "features = ['watchers', 'creation_year', 'subscribers', 'releases_count', 'pull_requests', 'readme_size', 'lines_of_codes']\n",
    "X = df[features]\n",
    "y = df['popularity_score_3']\n",
    "X_train, X_test, y_train, y_test = train_test_split(X, y, test_size=0.2, random_state=42)\n",
    "\n",
    "rf = RandomForestRegressor(n_estimators=100, random_state=42)\n",
    "rf.fit(X_train, y_train)\n",
    "\n",
    "y_pred = rf.predict(X_test)\n",
    "\n",
    "r2 = r2_score(y_test, y_pred)\n",
    "print(f\"R² score: {r2}\")\n",
    "\n",
    "feature_importance = rf.feature_importances_\n",
    "feature_importance_df = pd.DataFrame({'Feature': features, 'Importance': feature_importance})\n",
    "feature_importance_df = feature_importance_df.sort_values(by='Importance', ascending=False)\n",
    "\n",
    "plt.figure(figsize=(10, 6))\n",
    "plt.barh(feature_importance_df['Feature'], feature_importance_df['Importance'], color='skyblue')\n",
    "plt.xlabel(\"Feature Importance\")\n",
    "plt.ylabel(\"Features\")\n",
    "plt.title(\"Feature Importance in Predicting GitHub Popularity Score 3 (Random Forest)\")\n",
    "plt.gca().invert_yaxis()\n",
    "plt.show()\n",
    "\n",
    "print(feature_importance_df)"
   ],
   "id": "546333e3a827b70d",
   "outputs": [
    {
     "name": "stdout",
     "output_type": "stream",
     "text": [
      "R² score: 0.9793497935681033\n"
     ]
    },
    {
     "data": {
      "text/plain": [
       "<Figure size 1000x600 with 1 Axes>"
      ],
      "image/png": "[encoded data removed]"
     },
     "metadata": {},
     "output_type": "display_data"
    },
    {
     "name": "stdout",
     "output_type": "stream",
     "text": [
      "          Feature  Importance\n",
      "0        watchers    0.973852\n",
      "4   pull_requests    0.012112\n",
      "2     subscribers    0.006184\n",
      "6  lines_of_codes    0.003009\n",
      "5     readme_size    0.002691\n",
      "1   creation_year    0.001378\n",
      "3  releases_count    0.000773\n"
     ]
    }
   ],
   "execution_count": 9
  },
  {
   "metadata": {},
   "cell_type": "markdown",
   "source": "# NN，star作为基准",
   "id": "a3791aeb69ee0cac"
  },
  {
   "metadata": {
    "ExecuteTime": {
     "end_time": "2025-03-03T03:29:15.398332Z",
     "start_time": "2025-03-03T03:25:33.316340Z"
    }
   },
   "cell_type": "code",
   "source": [
    "features = ['forks', 'watchers', 'creation_year', 'subscribers', 'releases_count', 'pull_requests', 'readme_size', 'lines_of_codes']\n",
    "X = df[features]\n",
    "y = df['stars']\n",
    "\n",
    "X = X.fillna(X.mean())\n",
    "y = y.fillna(y.mean())\n",
    "\n",
    "scaler = StandardScaler()\n",
    "X = scaler.fit_transform(X)\n",
    "\n",
    "X_tensor = torch.tensor(X, dtype=torch.float32)\n",
    "y_tensor = torch.tensor(y.values, dtype=torch.float32).view(-1, 1)\n",
    "\n",
    "X_train, X_test, y_train, y_test = train_test_split(X_tensor, y_tensor, test_size=0.2, random_state=42)\n",
    "\n",
    "batch_size = 32\n",
    "train_dataset = TensorDataset(X_train, y_train)\n",
    "test_dataset = TensorDataset(X_test, y_test)\n",
    "\n",
    "train_loader = DataLoader(train_dataset, batch_size=batch_size, shuffle=True)\n",
    "test_loader = DataLoader(test_dataset, batch_size=batch_size, shuffle=False)\n",
    "\n",
    "input_size = X.shape[1]\n",
    "model = GitHubRepoNN(input_size)\n",
    "\n",
    "criterion = nn.MSELoss()\n",
    "optimizer = optim.Adam(model.parameters(), lr=0.001)\n",
    "\n",
    "num_epochs = 50\n",
    "device = torch.device(\"cuda\" if torch.cuda.is_available() else \"cpu\")\n",
    "model.to(device)\n",
    "\n",
    "for epoch in range(num_epochs):\n",
    "    model.train()\n",
    "    total_loss = 0\n",
    "\n",
    "    for X_batch, y_batch in train_loader:\n",
    "        X_batch, y_batch = X_batch.to(device), y_batch.to(device)\n",
    "\n",
    "        y_pred = model(X_batch)\n",
    "        loss = criterion(y_pred, y_batch)\n",
    "\n",
    "        optimizer.zero_grad()\n",
    "        loss.backward()\n",
    "        optimizer.step()\n",
    "\n",
    "        total_loss += loss.item()\n",
    "\n",
    "    avg_loss = total_loss / len(train_loader)\n",
    "    print(f\"Epoch [{epoch+1}/{num_epochs}], Loss: {avg_loss:.4f}\")\n",
    "\n",
    "model.eval()\n",
    "with torch.no_grad():\n",
    "    y_test_pred = model(X_test.to(device)).cpu().numpy()\n",
    "\n",
    "r2 = r2_score(y_test.numpy(), y_test_pred)\n",
    "print(f\"R² score: {r2}\")\n",
    "\n",
    "feature_importance = model.fc1.weight.cpu().detach().numpy()\n",
    "\n",
    "importance_scores = np.mean(np.abs(feature_importance), axis=0)\n",
    "\n",
    "feature_importance_df = pd.DataFrame({\n",
    "    'Feature': features,\n",
    "    'Importance': importance_scores\n",
    "}).sort_values(by='Importance', ascending=False)\n",
    "\n",
    "plt.figure(figsize=(10, 6))\n",
    "plt.barh(feature_importance_df['Feature'], feature_importance_df['Importance'], color='skyblue')\n",
    "plt.xlabel(\"Feature Importance (Weight Magnitude)\")\n",
    "plt.ylabel(\"Features\")\n",
    "plt.title(\"Feature Importance in Predicting GitHub Stars (NN)\")\n",
    "plt.gca().invert_yaxis()\n",
    "plt.show()\n",
    "\n",
    "print(feature_importance_df)"
   ],
   "id": "669241e01e52d9db",
   "outputs": [
    {
     "name": "stdout",
     "output_type": "stream",
     "text": [
      "Epoch [1/50], Loss: 16798034.4177\n",
      "Epoch [2/50], Loss: 4353312.5106\n",
      "Epoch [3/50], Loss: 2287705.0936\n",
      "Epoch [4/50], Loss: 951055.3386\n",
      "Epoch [5/50], Loss: 234504.4164\n",
      "Epoch [6/50], Loss: 61713.4668\n",
      "Epoch [7/50], Loss: 34230.6553\n",
      "Epoch [8/50], Loss: 19890.8113\n",
      "Epoch [9/50], Loss: 12740.8961\n",
      "Epoch [10/50], Loss: 7509.0747\n",
      "Epoch [11/50], Loss: 4470.5290\n",
      "Epoch [12/50], Loss: 4251.2355\n",
      "Epoch [13/50], Loss: 2042.5483\n",
      "Epoch [14/50], Loss: 1368.7256\n",
      "Epoch [15/50], Loss: 1873.4510\n",
      "Epoch [16/50], Loss: 889.2175\n",
      "Epoch [17/50], Loss: 1447.0348\n",
      "Epoch [18/50], Loss: 662.2969\n",
      "Epoch [19/50], Loss: 1469.7655\n",
      "Epoch [20/50], Loss: 626.4993\n",
      "Epoch [21/50], Loss: 728.7362\n",
      "Epoch [22/50], Loss: 602.8896\n",
      "Epoch [23/50], Loss: 1040.0131\n",
      "Epoch [24/50], Loss: 1368.8173\n",
      "Epoch [25/50], Loss: 635.3853\n",
      "Epoch [26/50], Loss: 1771.1377\n",
      "Epoch [27/50], Loss: 2793.8125\n",
      "Epoch [28/50], Loss: 249.1593\n",
      "Epoch [29/50], Loss: 1061.9971\n",
      "Epoch [30/50], Loss: 937.9053\n",
      "Epoch [31/50], Loss: 1094.7234\n",
      "Epoch [32/50], Loss: 796.6855\n",
      "Epoch [33/50], Loss: 1545.0087\n",
      "Epoch [34/50], Loss: 2983.1355\n",
      "Epoch [35/50], Loss: 368.2022\n",
      "Epoch [36/50], Loss: 821.1979\n",
      "Epoch [37/50], Loss: 1703.6552\n",
      "Epoch [38/50], Loss: 1342.1464\n",
      "Epoch [39/50], Loss: 1868.1452\n",
      "Epoch [40/50], Loss: 896.0796\n",
      "Epoch [41/50], Loss: 519.7692\n",
      "Epoch [42/50], Loss: 615.1403\n",
      "Epoch [43/50], Loss: 845.0701\n",
      "Epoch [44/50], Loss: 1441.1925\n",
      "Epoch [45/50], Loss: 3036.5393\n",
      "Epoch [46/50], Loss: 534.0772\n",
      "Epoch [47/50], Loss: 819.6139\n",
      "Epoch [48/50], Loss: 1347.5289\n",
      "Epoch [49/50], Loss: 2153.0251\n",
      "Epoch [50/50], Loss: 1157.4438\n",
      "R² score: 0.9999985098838806\n"
     ]
    },
    {
     "data": {
      "text/plain": [
       "<Figure size 1000x600 with 1 Axes>"
      ],
      "image/png": "[encoded data removed]"
     },
     "metadata": {},
     "output_type": "display_data"
    },
    {
     "name": "stdout",
     "output_type": "stream",
     "text": [
      "          Feature  Importance\n",
      "1        watchers    2.678682\n",
      "7  lines_of_codes    0.046623\n",
      "5   pull_requests    0.019507\n",
      "3     subscribers    0.016357\n",
      "2   creation_year    0.013136\n",
      "0           forks    0.011133\n",
      "6     readme_size    0.010814\n",
      "4  releases_count    0.007647\n"
     ]
    }
   ],
   "execution_count": 10
  },
  {
   "metadata": {},
   "cell_type": "markdown",
   "source": "# NN，popularity_score_3作为基准",
   "id": "685c8b91456982e2"
  },
  {
   "metadata": {
    "ExecuteTime": {
     "end_time": "2025-03-03T03:33:00.904353Z",
     "start_time": "2025-03-03T03:29:15.570863Z"
    }
   },
   "cell_type": "code",
   "source": [
    "features = ['watchers', 'creation_year', 'subscribers', 'releases_count', 'pull_requests', 'readme_size', 'lines_of_codes']\n",
    "X = df[features]\n",
    "y = df['popularity_score_3']\n",
    "\n",
    "X = X.fillna(X.mean())  # 用均值填充\n",
    "y = y.fillna(y.mean())\n",
    "\n",
    "scaler = StandardScaler()\n",
    "X = scaler.fit_transform(X)  # 归一化特征\n",
    "\n",
    "X_tensor = torch.tensor(X, dtype=torch.float32)\n",
    "y_tensor = torch.tensor(y.values, dtype=torch.float32).view(-1, 1)\n",
    "\n",
    "X_train, X_test, y_train, y_test = train_test_split(X_tensor, y_tensor, test_size=0.2, random_state=42)\n",
    "\n",
    "batch_size = 32\n",
    "train_dataset = TensorDataset(X_train, y_train)\n",
    "test_dataset = TensorDataset(X_test, y_test)\n",
    "\n",
    "train_loader = DataLoader(train_dataset, batch_size=batch_size, shuffle=True)\n",
    "test_loader = DataLoader(test_dataset, batch_size=batch_size, shuffle=False)\n",
    "\n",
    "input_size = X.shape[1]\n",
    "model = GitHubRepoNN(input_size)\n",
    "\n",
    "criterion = nn.MSELoss()\n",
    "optimizer = optim.Adam(model.parameters(), lr=0.001)\n",
    "\n",
    "num_epochs = 50\n",
    "device = torch.device(\"cuda\" if torch.cuda.is_available() else \"cpu\")\n",
    "model.to(device)\n",
    "\n",
    "for epoch in range(num_epochs):\n",
    "    model.train()\n",
    "    total_loss = 0\n",
    "\n",
    "    for X_batch, y_batch in train_loader:\n",
    "        X_batch, y_batch = X_batch.to(device), y_batch.to(device)\n",
    "\n",
    "        y_pred = model(X_batch)\n",
    "        loss = criterion(y_pred, y_batch)\n",
    "\n",
    "        optimizer.zero_grad()\n",
    "        loss.backward()\n",
    "        optimizer.step()\n",
    "\n",
    "        total_loss += loss.item()\n",
    "\n",
    "    avg_loss = total_loss / len(train_loader)\n",
    "    print(f\"Epoch [{epoch+1}/{num_epochs}], Loss: {avg_loss:.4f}\")\n",
    "\n",
    "model.eval()\n",
    "with torch.no_grad():\n",
    "    y_test_pred = model(X_test.to(device)).cpu().numpy()\n",
    "\n",
    "r2 = r2_score(y_test.numpy(), y_test_pred)\n",
    "print(f\"R² score: {r2}\")\n",
    "\n",
    "feature_importance = model.fc1.weight.cpu().detach().numpy()\n",
    "\n",
    "importance_scores = np.mean(np.abs(feature_importance), axis=0)\n",
    "\n",
    "feature_importance_df = pd.DataFrame({\n",
    "    'Feature': features,\n",
    "    'Importance': importance_scores\n",
    "}).sort_values(by='Importance', ascending=False)\n",
    "\n",
    "plt.figure(figsize=(10, 6))\n",
    "plt.barh(feature_importance_df['Feature'], feature_importance_df['Importance'], color='skyblue')\n",
    "plt.xlabel(\"Feature Importance (Weight Magnitude)\")\n",
    "plt.ylabel(\"Features\")\n",
    "plt.title(\"Feature Importance in Predicting GitHub Popularity Score 3 (NN)\")\n",
    "plt.gca().invert_yaxis()\n",
    "plt.show()\n",
    "\n",
    "print(feature_importance_df)\n"
   ],
   "id": "95af3f7d07d78b76",
   "outputs": [
    {
     "name": "stdout",
     "output_type": "stream",
     "text": [
      "Epoch [1/50], Loss: 25355193.0994\n",
      "Epoch [2/50], Loss: 6302308.7371\n",
      "Epoch [3/50], Loss: 2822980.7856\n",
      "Epoch [4/50], Loss: 1657709.2098\n",
      "Epoch [5/50], Loss: 1219932.3142\n",
      "Epoch [6/50], Loss: 1101349.1629\n",
      "Epoch [7/50], Loss: 1039957.9500\n",
      "Epoch [8/50], Loss: 1010684.9644\n",
      "Epoch [9/50], Loss: 983623.4825\n",
      "Epoch [10/50], Loss: 963884.7636\n",
      "Epoch [11/50], Loss: 946819.0171\n",
      "Epoch [12/50], Loss: 937018.0135\n",
      "Epoch [13/50], Loss: 930136.3376\n",
      "Epoch [14/50], Loss: 924228.9315\n",
      "Epoch [15/50], Loss: 920279.3116\n",
      "Epoch [16/50], Loss: 906467.4969\n",
      "Epoch [17/50], Loss: 900766.6956\n",
      "Epoch [18/50], Loss: 902125.7683\n",
      "Epoch [19/50], Loss: 900750.9307\n",
      "Epoch [20/50], Loss: 895647.9176\n",
      "Epoch [21/50], Loss: 881428.5344\n",
      "Epoch [22/50], Loss: 898125.6060\n",
      "Epoch [23/50], Loss: 887531.4097\n",
      "Epoch [24/50], Loss: 885473.8812\n",
      "Epoch [25/50], Loss: 886617.9438\n",
      "Epoch [26/50], Loss: 885647.9650\n",
      "Epoch [27/50], Loss: 883188.3395\n",
      "Epoch [28/50], Loss: 882798.3038\n",
      "Epoch [29/50], Loss: 876822.5810\n",
      "Epoch [30/50], Loss: 894274.3281\n",
      "Epoch [31/50], Loss: 879620.8826\n",
      "Epoch [32/50], Loss: 882261.4888\n",
      "Epoch [33/50], Loss: 873027.0953\n",
      "Epoch [34/50], Loss: 888846.4791\n",
      "Epoch [35/50], Loss: 885161.8916\n",
      "Epoch [36/50], Loss: 875923.4912\n",
      "Epoch [37/50], Loss: 878286.3637\n",
      "Epoch [38/50], Loss: 877687.6265\n",
      "Epoch [39/50], Loss: 877504.9030\n",
      "Epoch [40/50], Loss: 875237.3024\n",
      "Epoch [41/50], Loss: 874904.6766\n",
      "Epoch [42/50], Loss: 874858.7590\n",
      "Epoch [43/50], Loss: 875755.8565\n",
      "Epoch [44/50], Loss: 861617.6077\n",
      "Epoch [45/50], Loss: 873916.2431\n",
      "Epoch [46/50], Loss: 874420.2525\n",
      "Epoch [47/50], Loss: 869995.0645\n",
      "Epoch [48/50], Loss: 873024.2714\n",
      "Epoch [49/50], Loss: 873890.4133\n",
      "Epoch [50/50], Loss: 874203.3521\n",
      "R² score: 0.9820781946182251\n"
     ]
    },
    {
     "data": {
      "text/plain": [
       "<Figure size 1000x600 with 1 Axes>"
      ],
      "image/png": "[encoded data removed]"
     },
     "metadata": {},
     "output_type": "display_data"
    },
    {
     "name": "stdout",
     "output_type": "stream",
     "text": [
      "          Feature  Importance\n",
      "0        watchers    2.475290\n",
      "5     readme_size    0.415971\n",
      "2     subscribers    0.409013\n",
      "3  releases_count    0.325115\n",
      "4   pull_requests    0.229296\n",
      "1   creation_year    0.205190\n",
      "6  lines_of_codes    0.108093\n"
     ]
    }
   ],
   "execution_count": 11
  }
 ],
 "metadata": {
  "kernelspec": {
   "display_name": "ecs260",
   "language": "python",
   "name": "python3"
  },
  "language_info": {
   "codemirror_mode": {
    "name": "ipython",
    "version": 3
   },
   "file_extension": ".py",
   "mimetype": "text/x-python",
   "name": "python",
   "nbconvert_exporter": "python",
   "pygments_lexer": "ipython3",
   "version": "3.12.8"
  }
 },
 "nbformat": 5,
 "nbformat_minor": 9
}
