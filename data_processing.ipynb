{
 "cells": [
  {
   "cell_type": "code",
   "id": "478a7926c092097a",
   "metadata": {
    "ExecuteTime": {
     "end_time": "2025-02-02T00:51:36.529075Z",
     "start_time": "2025-02-02T00:51:35.946890Z"
    }
   },
   "source": [
    "import json\n",
    "import os\n",
    "import pandas as pd"
   ],
   "outputs": [],
   "execution_count": 1
  },
  {
   "cell_type": "markdown",
   "id": "9fdb43025fcd3902",
   "metadata": {},
   "source": [
    "# 函数"
   ]
  },
  {
   "cell_type": "code",
   "id": "37443000a56bd6f5",
   "metadata": {
    "ExecuteTime": {
     "end_time": "2025-02-02T00:51:37.680049Z",
     "start_time": "2025-02-02T00:51:37.677534Z"
    }
   },
   "source": [
    "def calculate_readme_size(readme):\n",
    "    if isinstance(readme, str):\n",
    "        return len(readme)\n",
    "    else:\n",
    "        return 0\n",
    "\n",
    "\n",
    "def calculate_lines_of_codes(languages):\n",
    "    if isinstance(languages, dict):\n",
    "        return sum(languages.values())\n",
    "    return 0"
   ],
   "outputs": [],
   "execution_count": 2
  },
  {
   "cell_type": "markdown",
   "id": "1dea987652bbfc9c",
   "metadata": {},
   "source": [
    "# 获取所有文件名"
   ]
  },
  {
   "cell_type": "code",
   "id": "e970e7cc0db629b3",
   "metadata": {
    "ExecuteTime": {
     "end_time": "2025-02-02T00:51:39.173142Z",
     "start_time": "2025-02-02T00:51:38.983670Z"
    }
   },
   "source": [
    "file_paths = []\n",
    "for f_name in os.listdir('data'):\n",
    "    if f_name.endswith('json'):\n",
    "        file_paths.append(\"data/\" + f_name)\n",
    "\n",
    "print(f\"Total files detected: {len(file_paths)}\")"
   ],
   "outputs": [
    {
     "name": "stdout",
     "output_type": "stream",
     "text": [
      "Total files detected: 186035\n"
     ]
    }
   ],
   "execution_count": 3
  },
  {
   "cell_type": "markdown",
   "id": "9b35b8839b1c8563",
   "metadata": {},
   "source": [
    "# 读取文件并创建Pandas Dataframe"
   ]
  },
  {
   "cell_type": "code",
   "id": "9eef8bae339ef9b0",
   "metadata": {
    "ExecuteTime": {
     "end_time": "2025-02-02T00:53:31.320278Z",
     "start_time": "2025-02-02T00:53:07.787791Z"
    }
   },
   "source": [
    "error_count = 0\n",
    "rows = []\n",
    "\n",
    "for file_path in file_paths:\n",
    "    try:\n",
    "        with open(file_path, 'r', encoding='utf-8') as file:\n",
    "            data = json.load(file)\n",
    "            for url, details in data.items():\n",
    "                row = {\"url\": url, \"name\": url.split('/')[-1], \"owner\": url.split('/')[-2]}\n",
    "                row.update(details)\n",
    "                rows.append(row)\n",
    "    except Exception as e:\n",
    "        error_count += 1\n",
    "\n",
    "df = pd.DataFrame(rows)\n",
    "\n",
    "print(f\"Total errors: {error_count}\")\n",
    "print(f\"Raw data size {len(df)}\")"
   ],
   "outputs": [
    {
     "name": "stdout",
     "output_type": "stream",
     "text": [
      "Total errors: 159\n",
      "Raw data size 185876\n"
     ]
    }
   ],
   "execution_count": 5
  },
  {
   "cell_type": "markdown",
   "id": "9e5f59b2a5b46f4d",
   "metadata": {},
   "source": [
    "# 新增readme_size和lines_of_codes标签"
   ]
  },
  {
   "cell_type": "code",
   "id": "446e41640d305ec3",
   "metadata": {
    "ExecuteTime": {
     "end_time": "2025-02-02T00:53:34.628649Z",
     "start_time": "2025-02-02T00:53:34.482774Z"
    }
   },
   "source": [
    "df[\"readme_size\"] = df[\"readme\"].apply(calculate_readme_size)\n",
    "df[\"lines_of_codes\"] = df[\"languages\"].apply(calculate_lines_of_codes)\n",
    "print(f\"Column names are: {list(df.columns)}\")"
   ],
   "outputs": [
    {
     "name": "stdout",
     "output_type": "stream",
     "text": [
      "Column names are: ['url', 'name', 'owner', 'forks', 'watchers', 'stars', 'languages', 'commits', 'creation_date', 'contributors', 'topics', 'subscribers', 'readme', 'releases', 'readme_size', 'lines_of_codes']\n"
     ]
    }
   ],
   "execution_count": 6
  }
 ],
 "metadata": {
  "kernelspec": {
   "display_name": "ecs260",
   "language": "python",
   "name": "python3"
  },
  "language_info": {
   "codemirror_mode": {
    "name": "ipython",
    "version": 3
   },
   "file_extension": ".py",
   "mimetype": "text/x-python",
   "name": "python",
   "nbconvert_exporter": "python",
   "pygments_lexer": "ipython3",
   "version": "3.12.8"
  }
 },
 "nbformat": 5,
 "nbformat_minor": 9
}
