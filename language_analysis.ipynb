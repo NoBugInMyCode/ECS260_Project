{
 "cells": [
  {
   "cell_type": "code",
   "id": "initial_id",
   "metadata": {
    "collapsed": true
   },
   "source": [
    "import pandas as pd\n",
    "import json, ast"
   ],
   "outputs": [],
   "execution_count": null
  },
  {
   "metadata": {
    "ExecuteTime": {
     "end_time": "2025-03-07T00:58:28.843607Z",
     "start_time": "2025-03-07T00:58:04.447081Z"
    }
   },
   "cell_type": "code",
   "source": [
    "original_df = pd.read_csv('C:/Users/29400/Desktop/data/original_data.csv')\n",
    "ai_df = pd.read_csv('C:/Users/29400/Desktop/data/ai.csv')\n",
    "non_ai_df = pd.read_csv('C:/Users/29400/Desktop/data/non_ai.csv')"
   ],
   "id": "e94e5f8622bdf842",
   "outputs": [],
   "execution_count": 43
  },
  {
   "metadata": {
    "ExecuteTime": {
     "end_time": "2025-03-07T00:59:53.506249Z",
     "start_time": "2025-03-07T00:59:53.139776Z"
    }
   },
   "cell_type": "code",
   "source": [
    "def parse_languages(languages):\n",
    "    # **检测 NaN（None, np.nan, float('nan')）**\n",
    "    if pd.isna(languages):\n",
    "        return {}  # NaN 处理为空字典\n",
    "\n",
    "    if isinstance(languages, str):\n",
    "        try:\n",
    "            return json.loads(languages)  # 直接尝试用 JSON 解析\n",
    "        except json.JSONDecodeError:\n",
    "            try:\n",
    "                return ast.literal_eval(languages)\n",
    "            except Exception as e:\n",
    "                print(f\"Skipping invalid data: {languages} - Error: {e}\")\n",
    "                return {}  # 解析失败，返回空字典\n",
    "    return languages  # 如果已经是字典，则直接返回\n",
    "\n",
    "\n",
    "original_df['languages'] = original_df['languages'].apply(parse_languages)\n",
    "ai_df['languages'] = ai_df['languages'].apply(parse_languages)\n",
    "non_ai_df['languages'] = non_ai_df['languages'].apply(parse_languages)"
   ],
   "id": "50a428ca6c48e4ad",
   "outputs": [],
   "execution_count": 49
  },
  {
   "metadata": {
    "ExecuteTime": {
     "end_time": "2025-03-07T00:59:55.171433Z",
     "start_time": "2025-03-07T00:59:55.059922Z"
    }
   },
   "cell_type": "code",
   "source": [
    "popular_threshold = 0.3\n",
    "\n",
    "# 计算要选择的数量\n",
    "top_30_percent_count_original = int(len(original_df) * popular_threshold)\n",
    "top_30_percent_count_ai = int(len(ai_df) * popular_threshold)\n",
    "top_30_percent_count_non_ai = int(len(non_ai_df) * popular_threshold)\n",
    "\n",
    "# 按照 stars 排序（降序）\n",
    "original_df_sorted = original_df.sort_values(by='stars', ascending=False)\n",
    "ai_df_sorted = ai_df.sort_values(by='stars', ascending=False)\n",
    "non_ai_df_sorted = non_ai_df.sort_values(by='stars', ascending=False)\n",
    "\n",
    "# 选择前30%的仓库\n",
    "popular_original_df = original_df_sorted.head(top_30_percent_count_original)\n",
    "popular_ai_df = ai_df_sorted.head(top_30_percent_count_ai)\n",
    "popular_non_ai_df = non_ai_df_sorted.head(top_30_percent_count_non_ai)"
   ],
   "id": "f684c09a750e5061",
   "outputs": [],
   "execution_count": 50
  },
  {
   "metadata": {
    "ExecuteTime": {
     "end_time": "2025-03-07T01:09:54.181714Z",
     "start_time": "2025-03-07T01:09:48.776360Z"
    }
   },
   "cell_type": "code",
   "source": [
    "def calculate_languages(df) -> {}:\n",
    "    languages_count = {}\n",
    "    for index, row in df.iterrows():\n",
    "        languages = row['languages']\n",
    "        for language in languages:\n",
    "            if language not in languages_count:\n",
    "                languages_count[language] = 1\n",
    "            else:\n",
    "                languages_count[language] += 1\n",
    "    return languages_count\n",
    "\n",
    "\n",
    "top_original_languages_count = calculate_languages(popular_original_df)\n",
    "top_ai_languages_count = calculate_languages(popular_ai_df)\n",
    "top_non_ai_languages_count = calculate_languages(popular_non_ai_df)\n",
    "original_language_count = calculate_languages(original_df)\n",
    "ai_language_count = calculate_languages(ai_df)\n",
    "non_ai_language_count = calculate_languages(non_ai_df)"
   ],
   "id": "123fa75f844bcdf5",
   "outputs": [],
   "execution_count": 69
  },
  {
   "metadata": {
    "ExecuteTime": {
     "end_time": "2025-03-07T01:15:46.213920Z",
     "start_time": "2025-03-07T01:15:46.208920Z"
    }
   },
   "cell_type": "code",
   "source": [
    "sorted_top_original_languages_count = sorted(top_original_languages_count.items(), key=lambda item: item[1], reverse=True)\n",
    "sorted_top_ai_languages_count = sorted(top_ai_languages_count.items(), key=lambda item: item[1], reverse=True)\n",
    "sorted_top_non_ai_languages_count = sorted(top_non_ai_languages_count.items(), key=lambda item: item[1], reverse=True)\n",
    "sorted_original_language_count = sorted(original_language_count.items(), key=lambda item: item[1], reverse=True)\n",
    "sorted_ai_language_count = sorted(ai_language_count.items(), key=lambda item: item[1], reverse=True)\n",
    "sorted_non_ai_languages_count = sorted(non_ai_language_count.items(), key=lambda item: item[1], reverse=True)\n",
    "\n",
    "top10_sorted_top_original_languages = sorted_top_original_languages_count[:10]\n",
    "top10_sorted_top_ai_languages = sorted_top_ai_languages_count[:10]\n",
    "top10_sorted_top_non_ai_languages = sorted_top_non_ai_languages_count[:10]\n",
    "top10_sorted_original_languages = sorted_original_language_count[:10]\n",
    "top10_sorted_ai_languages = sorted_ai_language_count[:10]\n",
    "top10_sorted_non_ai_languages = sorted_non_ai_languages_count[:10]"
   ],
   "id": "7b175272ee7c9b43",
   "outputs": [],
   "execution_count": 84
  },
  {
   "metadata": {
    "ExecuteTime": {
     "end_time": "2025-03-07T01:28:26.192839Z",
     "start_time": "2025-03-07T01:28:26.187753Z"
    }
   },
   "cell_type": "code",
   "source": [
    "print(\"Original Data\")\n",
    "print(f\"Total Data Entries: {len(original_df)}\")\n",
    "for key in top10_sorted_original_languages:\n",
    "    print(f\"{key[0]:<20}{key[1]:<10}{key[1] / len(original_df) * 100:.2f}%\")\n",
    "\n",
    "print(\"\\nAI Data\")\n",
    "print(f\"Total Data Entries: {len(ai_df)}\")\n",
    "for key in top10_sorted_ai_languages:\n",
    "    print(f\"{key[0]:<20}{key[1]:<10}{key[1] / len(ai_df) * 100:.2f}%\")\n",
    "\n",
    "print(\"\\nNon-AI Data\")\n",
    "print(f\"Total Data Entries: {len(non_ai_df)}\")\n",
    "for key in top10_sorted_non_ai_languages:\n",
    "    print(f\"{key[0]:<20}{key[1]:<10}{key[1] / len(non_ai_df) * 100:.2f}%\")\n",
    "\n",
    "print(f\"\\nTop {popular_threshold * 100:.0f}% Original Data\")\n",
    "print(f\"Total Data Entries: {len(popular_original_df)}\")\n",
    "for key in top10_sorted_top_original_languages:\n",
    "    print(f\"{key[0]:<20}{key[1]:<10}{key[1] / len(popular_original_df) * 100:.2f}%\")\n",
    "\n",
    "print(f\"\\nTop {popular_threshold * 100:.0f}% AI Data\")\n",
    "print(f\"Total Data Entries: {len(popular_ai_df)}\")\n",
    "for key in top10_sorted_top_ai_languages:\n",
    "    print(f\"{key[0]:<20}{key[1]:<10}{key[1] / len(popular_ai_df) * 100:.2f}%\")\n",
    "\n",
    "print(f\"\\nTop {popular_threshold * 100:.0f}% Non-AI Data\")\n",
    "print(f\"Total Data Entries: {len(non_ai_df)}\")\n",
    "for key in top10_sorted_top_non_ai_languages:\n",
    "    print(f\"{key[0]:<20}{key[1]:<10}{key[1] / len(non_ai_df) * 100:.2f}%\")"
   ],
   "id": "91f2bbf5c910f19e",
   "outputs": [
    {
     "name": "stdout",
     "output_type": "stream",
     "text": [
      "Original Data\n",
      "Total Data Entries: 185876\n",
      "JavaScript          60263     32.42%\n",
      "Shell               55741     29.99%\n",
      "Python              49173     26.45%\n",
      "HTML                45123     24.28%\n",
      "CSS                 35014     18.84%\n",
      "Makefile            26761     14.40%\n",
      "C                   23646     12.72%\n",
      "C++                 20895     11.24%\n",
      "Java                20391     10.97%\n",
      "Dockerfile          18267     9.83%\n",
      "\n",
      "AI Data\n",
      "Total Data Entries: 6545\n",
      "Python              4855      74.18%\n",
      "Shell               2356      36.00%\n",
      "Jupyter Notebook    1531      23.39%\n",
      "Dockerfile          1059      16.18%\n",
      "HTML                972       14.85%\n",
      "Makefile            914       13.96%\n",
      "JavaScript          888       13.57%\n",
      "C++                 875       13.37%\n",
      "CSS                 742       11.34%\n",
      "C                   568       8.68%\n",
      "\n",
      "Non-AI Data\n",
      "Total Data Entries: 179331\n",
      "JavaScript          59375     33.11%\n",
      "Shell               53385     29.77%\n",
      "Python              44318     24.71%\n",
      "HTML                44151     24.62%\n",
      "CSS                 34272     19.11%\n",
      "Makefile            25847     14.41%\n",
      "C                   23078     12.87%\n",
      "Java                20105     11.21%\n",
      "C++                 20020     11.16%\n",
      "Dockerfile          17208     9.60%\n",
      "\n",
      "Top 30% Original Data\n",
      "Total Data Entries: 55762\n",
      "Shell               20610     36.96%\n",
      "JavaScript          19531     35.03%\n",
      "Python              16263     29.17%\n",
      "HTML                15536     27.86%\n",
      "CSS                 11792     21.15%\n",
      "Makefile            9640      17.29%\n",
      "Dockerfile          8339      14.95%\n",
      "C                   7951      14.26%\n",
      "C++                 6905      12.38%\n",
      "Java                6509      11.67%\n",
      "\n",
      "Top 30% AI Data\n",
      "Total Data Entries: 1963\n",
      "Python              1457      74.22%\n",
      "Shell               870       44.32%\n",
      "Jupyter Notebook    498       25.37%\n",
      "Dockerfile          496       25.27%\n",
      "HTML                373       19.00%\n",
      "JavaScript          362       18.44%\n",
      "Makefile            356       18.14%\n",
      "C++                 315       16.05%\n",
      "CSS                 294       14.98%\n",
      "C                   237       12.07%\n",
      "\n",
      "Top 30% Non-AI Data\n",
      "Total Data Entries: 179331\n",
      "Shell               19709     10.99%\n",
      "JavaScript          19359     10.80%\n",
      "HTML                15266     8.51%\n",
      "Python              14331     7.99%\n",
      "CSS                 11590     6.46%\n",
      "Makefile            9273      5.17%\n",
      "Dockerfile          7797      4.35%\n",
      "C                   7759      4.33%\n",
      "C++                 6561      3.66%\n",
      "Java                6478      3.61%\n"
     ]
    }
   ],
   "execution_count": 104
  }
 ],
 "metadata": {
  "kernelspec": {
   "display_name": "Python 3",
   "language": "python",
   "name": "python3"
  },
  "language_info": {
   "codemirror_mode": {
    "name": "ipython",
    "version": 2
   },
   "file_extension": ".py",
   "mimetype": "text/x-python",
   "name": "python",
   "nbconvert_exporter": "python",
   "pygments_lexer": "ipython2",
   "version": "2.7.6"
  }
 },
 "nbformat": 4,
 "nbformat_minor": 5
}
